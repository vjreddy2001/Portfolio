{
 "cells": [
  {
   "cell_type": "code",
   "execution_count": 109,
   "metadata": {},
   "outputs": [],
   "source": [
    " #  A Whale off the Port(folio)\n",
    " #---\n",
    "\n",
    "#In this assignment, you'll get to use what you've learned this week to evaluate the performance among various algorithmic, hedge, and mutual fund portfolios and compare them against the S&P TSX 60 Index."
   ]
  },
  {
   "cell_type": "code",
   "execution_count": 110,
   "metadata": {},
   "outputs": [],
   "source": [
    "# Initial imports\n",
    "import pandas as pd\n",
    "import numpy as np\n",
    "import datetime as dt\n",
    "from pathlib import Path\n",
    "import seaborn as sns\n",
    "\n",
    "%matplotlib inline"
   ]
  },
  {
   "cell_type": "markdown",
   "metadata": {},
   "source": [
    "# Data Cleaning\n",
    "\n",
    "In this section, you will need to read the CSV files into DataFrames and perform any necessary data cleaning steps. After cleaning, combine all DataFrames into a single DataFrame.\n",
    "\n",
    "Files:\n",
    "\n",
    "* `whale_returns.csv`: Contains returns of some famous \"whale\" investors' portfolios.\n",
    "\n",
    "* `algo_returns.csv`: Contains returns from the in-house trading algorithms from Harold's company.\n",
    "\n",
    "* `sp_tsx_history.csv`: Contains historical closing prices of the S&P TSX 60 Index."
   ]
  },
  {
   "cell_type": "markdown",
   "metadata": {},
   "source": [
    "## Whale Returns\n",
    "\n",
    "Read the Whale Portfolio daily returns and clean the data."
   ]
  },
  {
   "cell_type": "code",
   "execution_count": 111,
   "metadata": {},
   "outputs": [],
   "source": [
    "csvpath_whale = (\"whale_returns.csv\") "
   ]
  },
  {
   "cell_type": "code",
   "execution_count": 112,
   "metadata": {},
   "outputs": [
    {
     "data": {
      "text/html": [
       "<div>\n",
       "<style scoped>\n",
       "    .dataframe tbody tr th:only-of-type {\n",
       "        vertical-align: middle;\n",
       "    }\n",
       "\n",
       "    .dataframe tbody tr th {\n",
       "        vertical-align: top;\n",
       "    }\n",
       "\n",
       "    .dataframe thead th {\n",
       "        text-align: right;\n",
       "    }\n",
       "</style>\n",
       "<table border=\"1\" class=\"dataframe\">\n",
       "  <thead>\n",
       "    <tr style=\"text-align: right;\">\n",
       "      <th></th>\n",
       "      <th>SOROS FUND MANAGEMENT LLC</th>\n",
       "      <th>PAULSON &amp; CO.INC.</th>\n",
       "      <th>TIGER GLOBAL MANAGEMENT LLC</th>\n",
       "      <th>BERKSHIRE HATHAWAY INC</th>\n",
       "    </tr>\n",
       "    <tr>\n",
       "      <th>Date</th>\n",
       "      <th></th>\n",
       "      <th></th>\n",
       "      <th></th>\n",
       "      <th></th>\n",
       "    </tr>\n",
       "  </thead>\n",
       "  <tbody>\n",
       "    <tr>\n",
       "      <th>2015-03-02</th>\n",
       "      <td>NaN</td>\n",
       "      <td>NaN</td>\n",
       "      <td>NaN</td>\n",
       "      <td>NaN</td>\n",
       "    </tr>\n",
       "    <tr>\n",
       "      <th>2015-03-03</th>\n",
       "      <td>-0.001266</td>\n",
       "      <td>-0.004981</td>\n",
       "      <td>-0.000496</td>\n",
       "      <td>-0.006569</td>\n",
       "    </tr>\n",
       "    <tr>\n",
       "      <th>2015-03-04</th>\n",
       "      <td>0.002230</td>\n",
       "      <td>0.003241</td>\n",
       "      <td>-0.002534</td>\n",
       "      <td>0.004213</td>\n",
       "    </tr>\n",
       "    <tr>\n",
       "      <th>2015-03-05</th>\n",
       "      <td>0.004016</td>\n",
       "      <td>0.004076</td>\n",
       "      <td>0.002355</td>\n",
       "      <td>0.006726</td>\n",
       "    </tr>\n",
       "    <tr>\n",
       "      <th>2015-03-06</th>\n",
       "      <td>-0.007905</td>\n",
       "      <td>-0.003574</td>\n",
       "      <td>-0.008481</td>\n",
       "      <td>-0.013098</td>\n",
       "    </tr>\n",
       "    <tr>\n",
       "      <th>2015-03-09</th>\n",
       "      <td>0.000582</td>\n",
       "      <td>0.004225</td>\n",
       "      <td>0.005843</td>\n",
       "      <td>-0.001652</td>\n",
       "    </tr>\n",
       "    <tr>\n",
       "      <th>2015-03-10</th>\n",
       "      <td>-0.010263</td>\n",
       "      <td>-0.005341</td>\n",
       "      <td>-0.012079</td>\n",
       "      <td>-0.009739</td>\n",
       "    </tr>\n",
       "    <tr>\n",
       "      <th>2015-03-11</th>\n",
       "      <td>0.004012</td>\n",
       "      <td>0.005163</td>\n",
       "      <td>0.003312</td>\n",
       "      <td>-0.001147</td>\n",
       "    </tr>\n",
       "    <tr>\n",
       "      <th>2015-03-12</th>\n",
       "      <td>0.008265</td>\n",
       "      <td>0.010272</td>\n",
       "      <td>0.013117</td>\n",
       "      <td>0.010801</td>\n",
       "    </tr>\n",
       "    <tr>\n",
       "      <th>2015-03-13</th>\n",
       "      <td>-0.002497</td>\n",
       "      <td>-0.001428</td>\n",
       "      <td>-0.003697</td>\n",
       "      <td>-0.008142</td>\n",
       "    </tr>\n",
       "    <tr>\n",
       "      <th>2015-03-16</th>\n",
       "      <td>0.007901</td>\n",
       "      <td>0.003583</td>\n",
       "      <td>0.007953</td>\n",
       "      <td>0.008055</td>\n",
       "    </tr>\n",
       "    <tr>\n",
       "      <th>2015-03-17</th>\n",
       "      <td>0.002142</td>\n",
       "      <td>0.002928</td>\n",
       "      <td>-0.000687</td>\n",
       "      <td>0.000384</td>\n",
       "    </tr>\n",
       "    <tr>\n",
       "      <th>2015-03-18</th>\n",
       "      <td>0.009603</td>\n",
       "      <td>0.007513</td>\n",
       "      <td>0.009557</td>\n",
       "      <td>0.007854</td>\n",
       "    </tr>\n",
       "    <tr>\n",
       "      <th>2015-03-19</th>\n",
       "      <td>-0.000778</td>\n",
       "      <td>-0.002554</td>\n",
       "      <td>-0.002925</td>\n",
       "      <td>0.002363</td>\n",
       "    </tr>\n",
       "    <tr>\n",
       "      <th>2015-03-20</th>\n",
       "      <td>0.009657</td>\n",
       "      <td>0.000983</td>\n",
       "      <td>0.007391</td>\n",
       "      <td>0.007105</td>\n",
       "    </tr>\n",
       "    <tr>\n",
       "      <th>2015-03-23</th>\n",
       "      <td>-0.000067</td>\n",
       "      <td>-0.000513</td>\n",
       "      <td>-0.000109</td>\n",
       "      <td>0.000591</td>\n",
       "    </tr>\n",
       "    <tr>\n",
       "      <th>2015-03-24</th>\n",
       "      <td>-0.002571</td>\n",
       "      <td>-0.004808</td>\n",
       "      <td>-0.003321</td>\n",
       "      <td>-0.001013</td>\n",
       "    </tr>\n",
       "    <tr>\n",
       "      <th>2015-03-25</th>\n",
       "      <td>-0.006156</td>\n",
       "      <td>-0.008018</td>\n",
       "      <td>-0.011172</td>\n",
       "      <td>-0.014567</td>\n",
       "    </tr>\n",
       "    <tr>\n",
       "      <th>2015-03-26</th>\n",
       "      <td>-0.002098</td>\n",
       "      <td>-0.000593</td>\n",
       "      <td>-0.001035</td>\n",
       "      <td>-0.001212</td>\n",
       "    </tr>\n",
       "    <tr>\n",
       "      <th>2015-03-27</th>\n",
       "      <td>-0.000075</td>\n",
       "      <td>0.002088</td>\n",
       "      <td>0.002190</td>\n",
       "      <td>0.004776</td>\n",
       "    </tr>\n",
       "    <tr>\n",
       "      <th>2015-03-30</th>\n",
       "      <td>0.008113</td>\n",
       "      <td>0.002220</td>\n",
       "      <td>0.008617</td>\n",
       "      <td>0.005228</td>\n",
       "    </tr>\n",
       "    <tr>\n",
       "      <th>2015-03-31</th>\n",
       "      <td>-0.005445</td>\n",
       "      <td>-0.003021</td>\n",
       "      <td>-0.003968</td>\n",
       "      <td>0.001858</td>\n",
       "    </tr>\n",
       "    <tr>\n",
       "      <th>2015-04-01</th>\n",
       "      <td>0.000919</td>\n",
       "      <td>0.000157</td>\n",
       "      <td>-0.002002</td>\n",
       "      <td>-0.003865</td>\n",
       "    </tr>\n",
       "    <tr>\n",
       "      <th>2015-04-02</th>\n",
       "      <td>0.002561</td>\n",
       "      <td>0.004299</td>\n",
       "      <td>0.003058</td>\n",
       "      <td>0.001966</td>\n",
       "    </tr>\n",
       "    <tr>\n",
       "      <th>2015-04-06</th>\n",
       "      <td>0.005368</td>\n",
       "      <td>0.003763</td>\n",
       "      <td>0.004631</td>\n",
       "      <td>0.004920</td>\n",
       "    </tr>\n",
       "    <tr>\n",
       "      <th>2015-04-07</th>\n",
       "      <td>-0.001243</td>\n",
       "      <td>-0.000171</td>\n",
       "      <td>-0.002060</td>\n",
       "      <td>0.001882</td>\n",
       "    </tr>\n",
       "    <tr>\n",
       "      <th>2015-04-08</th>\n",
       "      <td>0.006185</td>\n",
       "      <td>0.012652</td>\n",
       "      <td>0.003452</td>\n",
       "      <td>0.012352</td>\n",
       "    </tr>\n",
       "    <tr>\n",
       "      <th>2015-04-09</th>\n",
       "      <td>0.004036</td>\n",
       "      <td>0.003232</td>\n",
       "      <td>-0.000453</td>\n",
       "      <td>-0.001905</td>\n",
       "    </tr>\n",
       "    <tr>\n",
       "      <th>2015-04-10</th>\n",
       "      <td>-0.000090</td>\n",
       "      <td>0.001230</td>\n",
       "      <td>0.002386</td>\n",
       "      <td>0.001661</td>\n",
       "    </tr>\n",
       "    <tr>\n",
       "      <th>2015-04-13</th>\n",
       "      <td>-0.003448</td>\n",
       "      <td>-0.002766</td>\n",
       "      <td>-0.004072</td>\n",
       "      <td>-0.003074</td>\n",
       "    </tr>\n",
       "  </tbody>\n",
       "</table>\n",
       "</div>"
      ],
      "text/plain": [
       "            SOROS FUND MANAGEMENT LLC  PAULSON & CO.INC.   \\\n",
       "Date                                                        \n",
       "2015-03-02                        NaN                 NaN   \n",
       "2015-03-03                  -0.001266           -0.004981   \n",
       "2015-03-04                   0.002230            0.003241   \n",
       "2015-03-05                   0.004016            0.004076   \n",
       "2015-03-06                  -0.007905           -0.003574   \n",
       "2015-03-09                   0.000582            0.004225   \n",
       "2015-03-10                  -0.010263           -0.005341   \n",
       "2015-03-11                   0.004012            0.005163   \n",
       "2015-03-12                   0.008265            0.010272   \n",
       "2015-03-13                  -0.002497           -0.001428   \n",
       "2015-03-16                   0.007901            0.003583   \n",
       "2015-03-17                   0.002142            0.002928   \n",
       "2015-03-18                   0.009603            0.007513   \n",
       "2015-03-19                  -0.000778           -0.002554   \n",
       "2015-03-20                   0.009657            0.000983   \n",
       "2015-03-23                  -0.000067           -0.000513   \n",
       "2015-03-24                  -0.002571           -0.004808   \n",
       "2015-03-25                  -0.006156           -0.008018   \n",
       "2015-03-26                  -0.002098           -0.000593   \n",
       "2015-03-27                  -0.000075            0.002088   \n",
       "2015-03-30                   0.008113            0.002220   \n",
       "2015-03-31                  -0.005445           -0.003021   \n",
       "2015-04-01                   0.000919            0.000157   \n",
       "2015-04-02                   0.002561            0.004299   \n",
       "2015-04-06                   0.005368            0.003763   \n",
       "2015-04-07                  -0.001243           -0.000171   \n",
       "2015-04-08                   0.006185            0.012652   \n",
       "2015-04-09                   0.004036            0.003232   \n",
       "2015-04-10                  -0.000090            0.001230   \n",
       "2015-04-13                  -0.003448           -0.002766   \n",
       "\n",
       "            TIGER GLOBAL MANAGEMENT LLC  BERKSHIRE HATHAWAY INC  \n",
       "Date                                                             \n",
       "2015-03-02                          NaN                     NaN  \n",
       "2015-03-03                    -0.000496               -0.006569  \n",
       "2015-03-04                    -0.002534                0.004213  \n",
       "2015-03-05                     0.002355                0.006726  \n",
       "2015-03-06                    -0.008481               -0.013098  \n",
       "2015-03-09                     0.005843               -0.001652  \n",
       "2015-03-10                    -0.012079               -0.009739  \n",
       "2015-03-11                     0.003312               -0.001147  \n",
       "2015-03-12                     0.013117                0.010801  \n",
       "2015-03-13                    -0.003697               -0.008142  \n",
       "2015-03-16                     0.007953                0.008055  \n",
       "2015-03-17                    -0.000687                0.000384  \n",
       "2015-03-18                     0.009557                0.007854  \n",
       "2015-03-19                    -0.002925                0.002363  \n",
       "2015-03-20                     0.007391                0.007105  \n",
       "2015-03-23                    -0.000109                0.000591  \n",
       "2015-03-24                    -0.003321               -0.001013  \n",
       "2015-03-25                    -0.011172               -0.014567  \n",
       "2015-03-26                    -0.001035               -0.001212  \n",
       "2015-03-27                     0.002190                0.004776  \n",
       "2015-03-30                     0.008617                0.005228  \n",
       "2015-03-31                    -0.003968                0.001858  \n",
       "2015-04-01                    -0.002002               -0.003865  \n",
       "2015-04-02                     0.003058                0.001966  \n",
       "2015-04-06                     0.004631                0.004920  \n",
       "2015-04-07                    -0.002060                0.001882  \n",
       "2015-04-08                     0.003452                0.012352  \n",
       "2015-04-09                    -0.000453               -0.001905  \n",
       "2015-04-10                     0.002386                0.001661  \n",
       "2015-04-13                    -0.004072               -0.003074  "
      ]
     },
     "execution_count": 112,
     "metadata": {},
     "output_type": "execute_result"
    }
   ],
   "source": [
    "# Reading whale returns\n",
    "whale_portf_df = pd.read_csv(csvpath_whale, parse_dates=True, infer_datetime_format=True)\n",
    "whale_portf_df.set_index(\"Date\", inplace=True)\n",
    "whale_portf_df.head(30)"
   ]
  },
  {
   "cell_type": "code",
   "execution_count": 113,
   "metadata": {},
   "outputs": [
    {
     "data": {
      "text/plain": [
       "SOROS FUND MANAGEMENT LLC      1\n",
       "PAULSON & CO.INC.              1\n",
       "TIGER GLOBAL MANAGEMENT LLC    1\n",
       "BERKSHIRE HATHAWAY INC         1\n",
       "dtype: int64"
      ]
     },
     "execution_count": 113,
     "metadata": {},
     "output_type": "execute_result"
    }
   ],
   "source": [
    "# Count nulls\n",
    "whale_portf_df.isnull().mean() * 100\n",
    "whale_portf_df.isnull().sum()"
   ]
  },
  {
   "cell_type": "code",
   "execution_count": 114,
   "metadata": {},
   "outputs": [],
   "source": [
    "# Drop nulls\n",
    "whale_portf_df = whale_portf_df.dropna()\n"
   ]
  },
  {
   "cell_type": "code",
   "execution_count": 115,
   "metadata": {},
   "outputs": [
    {
     "data": {
      "text/plain": [
       "SOROS FUND MANAGEMENT LLC      0\n",
       "PAULSON & CO.INC.              0\n",
       "TIGER GLOBAL MANAGEMENT LLC    0\n",
       "BERKSHIRE HATHAWAY INC         0\n",
       "dtype: int64"
      ]
     },
     "execution_count": 115,
     "metadata": {},
     "output_type": "execute_result"
    }
   ],
   "source": [
    "#validating no more missing values\n",
    "whale_portf_df.isnull().sum()"
   ]
  },
  {
   "cell_type": "code",
   "execution_count": 116,
   "metadata": {},
   "outputs": [
    {
     "data": {
      "text/html": [
       "<div>\n",
       "<style scoped>\n",
       "    .dataframe tbody tr th:only-of-type {\n",
       "        vertical-align: middle;\n",
       "    }\n",
       "\n",
       "    .dataframe tbody tr th {\n",
       "        vertical-align: top;\n",
       "    }\n",
       "\n",
       "    .dataframe thead th {\n",
       "        text-align: right;\n",
       "    }\n",
       "</style>\n",
       "<table border=\"1\" class=\"dataframe\">\n",
       "  <thead>\n",
       "    <tr style=\"text-align: right;\">\n",
       "      <th></th>\n",
       "      <th>SOROS FUND MANAGEMENT LLC</th>\n",
       "      <th>PAULSON &amp; CO.INC.</th>\n",
       "      <th>TIGER GLOBAL MANAGEMENT LLC</th>\n",
       "      <th>BERKSHIRE HATHAWAY INC</th>\n",
       "    </tr>\n",
       "    <tr>\n",
       "      <th>Date</th>\n",
       "      <th></th>\n",
       "      <th></th>\n",
       "      <th></th>\n",
       "      <th></th>\n",
       "    </tr>\n",
       "  </thead>\n",
       "  <tbody>\n",
       "    <tr>\n",
       "      <th>2015-03-03</th>\n",
       "      <td>-0.001266</td>\n",
       "      <td>-0.004981</td>\n",
       "      <td>-0.000496</td>\n",
       "      <td>-0.006569</td>\n",
       "    </tr>\n",
       "    <tr>\n",
       "      <th>2015-03-04</th>\n",
       "      <td>0.002230</td>\n",
       "      <td>0.003241</td>\n",
       "      <td>-0.002534</td>\n",
       "      <td>0.004213</td>\n",
       "    </tr>\n",
       "    <tr>\n",
       "      <th>2015-03-05</th>\n",
       "      <td>0.004016</td>\n",
       "      <td>0.004076</td>\n",
       "      <td>0.002355</td>\n",
       "      <td>0.006726</td>\n",
       "    </tr>\n",
       "    <tr>\n",
       "      <th>2015-03-06</th>\n",
       "      <td>-0.007905</td>\n",
       "      <td>-0.003574</td>\n",
       "      <td>-0.008481</td>\n",
       "      <td>-0.013098</td>\n",
       "    </tr>\n",
       "    <tr>\n",
       "      <th>2015-03-09</th>\n",
       "      <td>0.000582</td>\n",
       "      <td>0.004225</td>\n",
       "      <td>0.005843</td>\n",
       "      <td>-0.001652</td>\n",
       "    </tr>\n",
       "  </tbody>\n",
       "</table>\n",
       "</div>"
      ],
      "text/plain": [
       "            SOROS FUND MANAGEMENT LLC  PAULSON & CO.INC.   \\\n",
       "Date                                                        \n",
       "2015-03-03                  -0.001266           -0.004981   \n",
       "2015-03-04                   0.002230            0.003241   \n",
       "2015-03-05                   0.004016            0.004076   \n",
       "2015-03-06                  -0.007905           -0.003574   \n",
       "2015-03-09                   0.000582            0.004225   \n",
       "\n",
       "            TIGER GLOBAL MANAGEMENT LLC  BERKSHIRE HATHAWAY INC  \n",
       "Date                                                             \n",
       "2015-03-03                    -0.000496               -0.006569  \n",
       "2015-03-04                    -0.002534                0.004213  \n",
       "2015-03-05                     0.002355                0.006726  \n",
       "2015-03-06                    -0.008481               -0.013098  \n",
       "2015-03-09                     0.005843               -0.001652  "
      ]
     },
     "execution_count": 116,
     "metadata": {},
     "output_type": "execute_result"
    }
   ],
   "source": [
    "#sorting data by \"date\" in ascending order\n",
    "whale_portf_df = whale_portf_df.sort_values(\"Date\")\n",
    "whale_portf_df.head()"
   ]
  },
  {
   "cell_type": "markdown",
   "metadata": {},
   "source": [
    "## Algorithmic Daily Returns\n",
    "\n",
    "Read the algorithmic daily returns and clean the data."
   ]
  },
  {
   "cell_type": "code",
   "execution_count": 117,
   "metadata": {},
   "outputs": [],
   "source": [
    "# Reading algorithmic returns\n",
    "csvpath_algo = (\"algo_returns.csv\")\n",
    "algo_returns_df = pd.read_csv(csvpath_algo, infer_datetime_format=True , parse_dates=True)\n",
    "algo_returns_df.set_index(\"Date\", inplace=True)\n",
    "#algo_returns_df.sort_index()"
   ]
  },
  {
   "cell_type": "code",
   "execution_count": 118,
   "metadata": {},
   "outputs": [
    {
     "data": {
      "text/html": [
       "<div>\n",
       "<style scoped>\n",
       "    .dataframe tbody tr th:only-of-type {\n",
       "        vertical-align: middle;\n",
       "    }\n",
       "\n",
       "    .dataframe tbody tr th {\n",
       "        vertical-align: top;\n",
       "    }\n",
       "\n",
       "    .dataframe thead th {\n",
       "        text-align: right;\n",
       "    }\n",
       "</style>\n",
       "<table border=\"1\" class=\"dataframe\">\n",
       "  <thead>\n",
       "    <tr style=\"text-align: right;\">\n",
       "      <th></th>\n",
       "      <th>Algo 1</th>\n",
       "      <th>Algo 2</th>\n",
       "    </tr>\n",
       "    <tr>\n",
       "      <th>Date</th>\n",
       "      <th></th>\n",
       "      <th></th>\n",
       "    </tr>\n",
       "  </thead>\n",
       "  <tbody>\n",
       "    <tr>\n",
       "      <th>2014-05-28</th>\n",
       "      <td>0.001745</td>\n",
       "      <td>NaN</td>\n",
       "    </tr>\n",
       "    <tr>\n",
       "      <th>2014-05-29</th>\n",
       "      <td>0.003978</td>\n",
       "      <td>NaN</td>\n",
       "    </tr>\n",
       "    <tr>\n",
       "      <th>2014-05-30</th>\n",
       "      <td>0.004464</td>\n",
       "      <td>NaN</td>\n",
       "    </tr>\n",
       "    <tr>\n",
       "      <th>2014-06-02</th>\n",
       "      <td>0.005692</td>\n",
       "      <td>NaN</td>\n",
       "    </tr>\n",
       "    <tr>\n",
       "      <th>2014-06-03</th>\n",
       "      <td>0.005292</td>\n",
       "      <td>NaN</td>\n",
       "    </tr>\n",
       "  </tbody>\n",
       "</table>\n",
       "</div>"
      ],
      "text/plain": [
       "              Algo 1  Algo 2\n",
       "Date                        \n",
       "2014-05-28  0.001745     NaN\n",
       "2014-05-29  0.003978     NaN\n",
       "2014-05-30  0.004464     NaN\n",
       "2014-06-02  0.005692     NaN\n",
       "2014-06-03  0.005292     NaN"
      ]
     },
     "execution_count": 118,
     "metadata": {},
     "output_type": "execute_result"
    }
   ],
   "source": [
    "algo_returns_df.head()"
   ]
  },
  {
   "cell_type": "code",
   "execution_count": 119,
   "metadata": {},
   "outputs": [
    {
     "data": {
      "text/plain": [
       "Algo 1    0\n",
       "Algo 2    6\n",
       "dtype: int64"
      ]
     },
     "execution_count": 119,
     "metadata": {},
     "output_type": "execute_result"
    }
   ],
   "source": [
    "# Count nulls\n",
    "algo_returns_df.isnull().mean() * 100\n",
    "algo_returns_df.isnull().sum()"
   ]
  },
  {
   "cell_type": "code",
   "execution_count": 120,
   "metadata": {},
   "outputs": [],
   "source": [
    "# Drop nulls\n",
    "algo_returns_df = algo_returns_df.dropna()"
   ]
  },
  {
   "cell_type": "code",
   "execution_count": 121,
   "metadata": {},
   "outputs": [
    {
     "data": {
      "text/plain": [
       "Algo 1    0\n",
       "Algo 2    0\n",
       "dtype: int64"
      ]
     },
     "execution_count": 121,
     "metadata": {},
     "output_type": "execute_result"
    }
   ],
   "source": [
    "#checking for nulls\n",
    "algo_returns_df.isnull().sum()"
   ]
  },
  {
   "cell_type": "code",
   "execution_count": 122,
   "metadata": {},
   "outputs": [
    {
     "data": {
      "text/html": [
       "<div>\n",
       "<style scoped>\n",
       "    .dataframe tbody tr th:only-of-type {\n",
       "        vertical-align: middle;\n",
       "    }\n",
       "\n",
       "    .dataframe tbody tr th {\n",
       "        vertical-align: top;\n",
       "    }\n",
       "\n",
       "    .dataframe thead th {\n",
       "        text-align: right;\n",
       "    }\n",
       "</style>\n",
       "<table border=\"1\" class=\"dataframe\">\n",
       "  <thead>\n",
       "    <tr style=\"text-align: right;\">\n",
       "      <th></th>\n",
       "      <th>Algo 1</th>\n",
       "      <th>Algo 2</th>\n",
       "    </tr>\n",
       "    <tr>\n",
       "      <th>Date</th>\n",
       "      <th></th>\n",
       "      <th></th>\n",
       "    </tr>\n",
       "  </thead>\n",
       "  <tbody>\n",
       "    <tr>\n",
       "      <th>2014-06-05</th>\n",
       "      <td>0.004062</td>\n",
       "      <td>0.013285</td>\n",
       "    </tr>\n",
       "    <tr>\n",
       "      <th>2014-06-06</th>\n",
       "      <td>0.001857</td>\n",
       "      <td>0.008284</td>\n",
       "    </tr>\n",
       "    <tr>\n",
       "      <th>2014-06-09</th>\n",
       "      <td>-0.005012</td>\n",
       "      <td>0.005668</td>\n",
       "    </tr>\n",
       "    <tr>\n",
       "      <th>2014-06-10</th>\n",
       "      <td>0.004406</td>\n",
       "      <td>-0.000735</td>\n",
       "    </tr>\n",
       "    <tr>\n",
       "      <th>2014-06-11</th>\n",
       "      <td>0.004760</td>\n",
       "      <td>-0.003761</td>\n",
       "    </tr>\n",
       "  </tbody>\n",
       "</table>\n",
       "</div>"
      ],
      "text/plain": [
       "              Algo 1    Algo 2\n",
       "Date                          \n",
       "2014-06-05  0.004062  0.013285\n",
       "2014-06-06  0.001857  0.008284\n",
       "2014-06-09 -0.005012  0.005668\n",
       "2014-06-10  0.004406 -0.000735\n",
       "2014-06-11  0.004760 -0.003761"
      ]
     },
     "execution_count": 122,
     "metadata": {},
     "output_type": "execute_result"
    }
   ],
   "source": [
    "#Sorting dat by \"Date\" in ascending order\n",
    "algo_returns_df = algo_returns_df.sort_values(\"Date\")\n",
    "algo_returns_df.head()"
   ]
  },
  {
   "cell_type": "markdown",
   "metadata": {},
   "source": [
    "## S&P TSX 60 Returns\n",
    "\n",
    "Read the S&P TSX 60 historic closing prices and create a new daily returns DataFrame from the data. "
   ]
  },
  {
   "cell_type": "code",
   "execution_count": 123,
   "metadata": {},
   "outputs": [
    {
     "data": {
      "text/html": [
       "<div>\n",
       "<style scoped>\n",
       "    .dataframe tbody tr th:only-of-type {\n",
       "        vertical-align: middle;\n",
       "    }\n",
       "\n",
       "    .dataframe tbody tr th {\n",
       "        vertical-align: top;\n",
       "    }\n",
       "\n",
       "    .dataframe thead th {\n",
       "        text-align: right;\n",
       "    }\n",
       "</style>\n",
       "<table border=\"1\" class=\"dataframe\">\n",
       "  <thead>\n",
       "    <tr style=\"text-align: right;\">\n",
       "      <th></th>\n",
       "      <th>Close</th>\n",
       "    </tr>\n",
       "    <tr>\n",
       "      <th>Date</th>\n",
       "      <th></th>\n",
       "    </tr>\n",
       "  </thead>\n",
       "  <tbody>\n",
       "    <tr>\n",
       "      <th>2012-10-01</th>\n",
       "      <td>$12,370.19</td>\n",
       "    </tr>\n",
       "    <tr>\n",
       "      <th>2012-10-02</th>\n",
       "      <td>$12,391.23</td>\n",
       "    </tr>\n",
       "    <tr>\n",
       "      <th>2012-10-03</th>\n",
       "      <td>$12,359.47</td>\n",
       "    </tr>\n",
       "    <tr>\n",
       "      <th>2012-10-04</th>\n",
       "      <td>$12,447.68</td>\n",
       "    </tr>\n",
       "    <tr>\n",
       "      <th>2012-10-05</th>\n",
       "      <td>$12,418.99</td>\n",
       "    </tr>\n",
       "  </tbody>\n",
       "</table>\n",
       "</div>"
      ],
      "text/plain": [
       "                 Close\n",
       "Date                  \n",
       "2012-10-01  $12,370.19\n",
       "2012-10-02  $12,391.23\n",
       "2012-10-03  $12,359.47\n",
       "2012-10-04  $12,447.68\n",
       "2012-10-05  $12,418.99"
      ]
     },
     "execution_count": 123,
     "metadata": {},
     "output_type": "execute_result"
    }
   ],
   "source": [
    "# Reading S&P TSX 60 Closing Prices\n",
    "csvpath_sp_tsx_history = (\"sp_tsx_history-updated.csv\")\n",
    "\n",
    "sp_tsx_history = pd.read_csv(csvpath_sp_tsx_history, infer_datetime_format=True, parse_dates=True)\n",
    "sp_tsx_history['Date'] = pd.to_datetime(sp_tsx_history['Date'],format= '%d/%m/%Y')\n",
    "sp_tsx_history.set_index('Date', inplace=True)\n",
    "\n",
    "###sp_tsx_history = pd.read_csv(csvpath_sp_tsx_history, infer_datetime_format=True, parse_dates=True)\n",
    "###sp_tsx_history[\"Date\"] = pd.to_datetime(csvpath_sp_tsx_history[\"Date\"],format = \"%d-%b-%Y\")\n",
    "###sp_tsx_history.set_index(\"Date\", inplace=True)\n",
    "\n",
    "\n",
    "#sp_tsx_history = pd.read_csv(csvpath_sp_tsx_history, infer_datetime_format=True ,  parse_dates=True)\n",
    "#sp_tsx_history.set_index(\"Date\", inplace=True)\n",
    "\n",
    "#sp_tsx_history.sort_index()\n",
    "sp_tsx_history.head()"
   ]
  },
  {
   "cell_type": "code",
   "execution_count": 124,
   "metadata": {},
   "outputs": [
    {
     "data": {
      "text/plain": [
       "Close    object\n",
       "dtype: object"
      ]
     },
     "execution_count": 124,
     "metadata": {},
     "output_type": "execute_result"
    }
   ],
   "source": [
    "# Check Data Types\n",
    "sp_tsx_history.dtypes"
   ]
  },
  {
   "cell_type": "code",
   "execution_count": 125,
   "metadata": {},
   "outputs": [
    {
     "name": "stderr",
     "output_type": "stream",
     "text": [
      "<ipython-input-125-084749193b54>:3: FutureWarning: The default value of regex will change from True to False in a future version. In addition, single character regular expressions will*not* be treated as literal strings when regex=True.\n",
      "  sp_tsx_history[\"Close\"] = sp_tsx_history[\"Close\"].str.replace(\"$\", \"\")\n"
     ]
    }
   ],
   "source": [
    "# Fix Data Types\n",
    "#Elemination \"$\" from column data \"Close\"\n",
    "sp_tsx_history[\"Close\"] = sp_tsx_history[\"Close\"].str.replace(\"$\", \"\")\n",
    "sp_tsx_history[\"Close\"] = sp_tsx_history[\"Close\"].str.replace(\",\", \"\")\n"
   ]
  },
  {
   "cell_type": "code",
   "execution_count": 126,
   "metadata": {},
   "outputs": [
    {
     "data": {
      "text/html": [
       "<div>\n",
       "<style scoped>\n",
       "    .dataframe tbody tr th:only-of-type {\n",
       "        vertical-align: middle;\n",
       "    }\n",
       "\n",
       "    .dataframe tbody tr th {\n",
       "        vertical-align: top;\n",
       "    }\n",
       "\n",
       "    .dataframe thead th {\n",
       "        text-align: right;\n",
       "    }\n",
       "</style>\n",
       "<table border=\"1\" class=\"dataframe\">\n",
       "  <thead>\n",
       "    <tr style=\"text-align: right;\">\n",
       "      <th></th>\n",
       "      <th>Close</th>\n",
       "    </tr>\n",
       "    <tr>\n",
       "      <th>Date</th>\n",
       "      <th></th>\n",
       "    </tr>\n",
       "  </thead>\n",
       "  <tbody>\n",
       "    <tr>\n",
       "      <th>2012-10-01</th>\n",
       "      <td>12370.19</td>\n",
       "    </tr>\n",
       "    <tr>\n",
       "      <th>2012-10-02</th>\n",
       "      <td>12391.23</td>\n",
       "    </tr>\n",
       "    <tr>\n",
       "      <th>2012-10-03</th>\n",
       "      <td>12359.47</td>\n",
       "    </tr>\n",
       "    <tr>\n",
       "      <th>2012-10-04</th>\n",
       "      <td>12447.68</td>\n",
       "    </tr>\n",
       "    <tr>\n",
       "      <th>2012-10-05</th>\n",
       "      <td>12418.99</td>\n",
       "    </tr>\n",
       "    <tr>\n",
       "      <th>2012-10-09</th>\n",
       "      <td>12273.57</td>\n",
       "    </tr>\n",
       "    <tr>\n",
       "      <th>2012-10-10</th>\n",
       "      <td>12212.42</td>\n",
       "    </tr>\n",
       "    <tr>\n",
       "      <th>2012-10-11</th>\n",
       "      <td>12233.95</td>\n",
       "    </tr>\n",
       "    <tr>\n",
       "      <th>2012-10-12</th>\n",
       "      <td>12202.04</td>\n",
       "    </tr>\n",
       "    <tr>\n",
       "      <th>2012-10-15</th>\n",
       "      <td>12229.96</td>\n",
       "    </tr>\n",
       "    <tr>\n",
       "      <th>2012-10-16</th>\n",
       "      <td>12407.70</td>\n",
       "    </tr>\n",
       "    <tr>\n",
       "      <th>2012-10-17</th>\n",
       "      <td>12461.25</td>\n",
       "    </tr>\n",
       "    <tr>\n",
       "      <th>2012-10-18</th>\n",
       "      <td>12466.12</td>\n",
       "    </tr>\n",
       "    <tr>\n",
       "      <th>2012-10-19</th>\n",
       "      <td>12415.98</td>\n",
       "    </tr>\n",
       "    <tr>\n",
       "      <th>2012-10-22</th>\n",
       "      <td>12403.54</td>\n",
       "    </tr>\n",
       "    <tr>\n",
       "      <th>2012-10-23</th>\n",
       "      <td>12225.84</td>\n",
       "    </tr>\n",
       "    <tr>\n",
       "      <th>2012-10-24</th>\n",
       "      <td>12195.02</td>\n",
       "    </tr>\n",
       "    <tr>\n",
       "      <th>2012-10-25</th>\n",
       "      <td>12300.23</td>\n",
       "    </tr>\n",
       "    <tr>\n",
       "      <th>2012-10-26</th>\n",
       "      <td>12300.30</td>\n",
       "    </tr>\n",
       "    <tr>\n",
       "      <th>2012-10-29</th>\n",
       "      <td>12312.75</td>\n",
       "    </tr>\n",
       "    <tr>\n",
       "      <th>2012-10-30</th>\n",
       "      <td>12377.05</td>\n",
       "    </tr>\n",
       "    <tr>\n",
       "      <th>2012-10-31</th>\n",
       "      <td>12422.91</td>\n",
       "    </tr>\n",
       "    <tr>\n",
       "      <th>2012-11-01</th>\n",
       "      <td>12499.76</td>\n",
       "    </tr>\n",
       "    <tr>\n",
       "      <th>2012-11-02</th>\n",
       "      <td>12380.41</td>\n",
       "    </tr>\n",
       "    <tr>\n",
       "      <th>2012-11-05</th>\n",
       "      <td>12352.78</td>\n",
       "    </tr>\n",
       "    <tr>\n",
       "      <th>2012-11-06</th>\n",
       "      <td>12361.20</td>\n",
       "    </tr>\n",
       "    <tr>\n",
       "      <th>2012-11-07</th>\n",
       "      <td>12230.59</td>\n",
       "    </tr>\n",
       "    <tr>\n",
       "      <th>2012-11-08</th>\n",
       "      <td>12191.05</td>\n",
       "    </tr>\n",
       "    <tr>\n",
       "      <th>2012-11-09</th>\n",
       "      <td>12196.80</td>\n",
       "    </tr>\n",
       "    <tr>\n",
       "      <th>2012-11-12</th>\n",
       "      <td>12191.46</td>\n",
       "    </tr>\n",
       "  </tbody>\n",
       "</table>\n",
       "</div>"
      ],
      "text/plain": [
       "               Close\n",
       "Date                \n",
       "2012-10-01  12370.19\n",
       "2012-10-02  12391.23\n",
       "2012-10-03  12359.47\n",
       "2012-10-04  12447.68\n",
       "2012-10-05  12418.99\n",
       "2012-10-09  12273.57\n",
       "2012-10-10  12212.42\n",
       "2012-10-11  12233.95\n",
       "2012-10-12  12202.04\n",
       "2012-10-15  12229.96\n",
       "2012-10-16  12407.70\n",
       "2012-10-17  12461.25\n",
       "2012-10-18  12466.12\n",
       "2012-10-19  12415.98\n",
       "2012-10-22  12403.54\n",
       "2012-10-23  12225.84\n",
       "2012-10-24  12195.02\n",
       "2012-10-25  12300.23\n",
       "2012-10-26  12300.30\n",
       "2012-10-29  12312.75\n",
       "2012-10-30  12377.05\n",
       "2012-10-31  12422.91\n",
       "2012-11-01  12499.76\n",
       "2012-11-02  12380.41\n",
       "2012-11-05  12352.78\n",
       "2012-11-06  12361.20\n",
       "2012-11-07  12230.59\n",
       "2012-11-08  12191.05\n",
       "2012-11-09  12196.80\n",
       "2012-11-12  12191.46"
      ]
     },
     "execution_count": 126,
     "metadata": {},
     "output_type": "execute_result"
    }
   ],
   "source": [
    "sp_tsx_history.head(30)"
   ]
  },
  {
   "cell_type": "code",
   "execution_count": 127,
   "metadata": {},
   "outputs": [
    {
     "data": {
      "text/plain": [
       "Close    object\n",
       "dtype: object"
      ]
     },
     "execution_count": 127,
     "metadata": {},
     "output_type": "execute_result"
    }
   ],
   "source": [
    "sp_tsx_history.dtypes"
   ]
  },
  {
   "cell_type": "code",
   "execution_count": 128,
   "metadata": {},
   "outputs": [],
   "source": [
    "#converting \"Close\" from object to float data type\n",
    "sp_tsx_history[\"Close\"] = sp_tsx_history[\"Close\"].astype(\"float\")\n"
   ]
  },
  {
   "cell_type": "code",
   "execution_count": 129,
   "metadata": {},
   "outputs": [
    {
     "data": {
      "text/plain": [
       "Close    float64\n",
       "dtype: object"
      ]
     },
     "execution_count": 129,
     "metadata": {},
     "output_type": "execute_result"
    }
   ],
   "source": [
    "sp_tsx_history.dtypes"
   ]
  },
  {
   "cell_type": "code",
   "execution_count": 130,
   "metadata": {},
   "outputs": [
    {
     "data": {
      "text/html": [
       "<div>\n",
       "<style scoped>\n",
       "    .dataframe tbody tr th:only-of-type {\n",
       "        vertical-align: middle;\n",
       "    }\n",
       "\n",
       "    .dataframe tbody tr th {\n",
       "        vertical-align: top;\n",
       "    }\n",
       "\n",
       "    .dataframe thead th {\n",
       "        text-align: right;\n",
       "    }\n",
       "</style>\n",
       "<table border=\"1\" class=\"dataframe\">\n",
       "  <thead>\n",
       "    <tr style=\"text-align: right;\">\n",
       "      <th></th>\n",
       "      <th>Close</th>\n",
       "    </tr>\n",
       "    <tr>\n",
       "      <th>Date</th>\n",
       "      <th></th>\n",
       "    </tr>\n",
       "  </thead>\n",
       "  <tbody>\n",
       "    <tr>\n",
       "      <th>2012-10-01</th>\n",
       "      <td>12370.19</td>\n",
       "    </tr>\n",
       "    <tr>\n",
       "      <th>2012-10-02</th>\n",
       "      <td>12391.23</td>\n",
       "    </tr>\n",
       "    <tr>\n",
       "      <th>2012-10-03</th>\n",
       "      <td>12359.47</td>\n",
       "    </tr>\n",
       "    <tr>\n",
       "      <th>2012-10-04</th>\n",
       "      <td>12447.68</td>\n",
       "    </tr>\n",
       "    <tr>\n",
       "      <th>2012-10-05</th>\n",
       "      <td>12418.99</td>\n",
       "    </tr>\n",
       "  </tbody>\n",
       "</table>\n",
       "</div>"
      ],
      "text/plain": [
       "               Close\n",
       "Date                \n",
       "2012-10-01  12370.19\n",
       "2012-10-02  12391.23\n",
       "2012-10-03  12359.47\n",
       "2012-10-04  12447.68\n",
       "2012-10-05  12418.99"
      ]
     },
     "execution_count": 130,
     "metadata": {},
     "output_type": "execute_result"
    }
   ],
   "source": [
    "sp_tsx_history.head()"
   ]
  },
  {
   "cell_type": "code",
   "execution_count": 131,
   "metadata": {},
   "outputs": [
    {
     "data": {
      "text/html": [
       "<div>\n",
       "<style scoped>\n",
       "    .dataframe tbody tr th:only-of-type {\n",
       "        vertical-align: middle;\n",
       "    }\n",
       "\n",
       "    .dataframe tbody tr th {\n",
       "        vertical-align: top;\n",
       "    }\n",
       "\n",
       "    .dataframe thead th {\n",
       "        text-align: right;\n",
       "    }\n",
       "</style>\n",
       "<table border=\"1\" class=\"dataframe\">\n",
       "  <thead>\n",
       "    <tr style=\"text-align: right;\">\n",
       "      <th></th>\n",
       "      <th>Close</th>\n",
       "    </tr>\n",
       "    <tr>\n",
       "      <th>Date</th>\n",
       "      <th></th>\n",
       "    </tr>\n",
       "  </thead>\n",
       "  <tbody>\n",
       "    <tr>\n",
       "      <th>2019-12-20</th>\n",
       "      <td>17118.44</td>\n",
       "    </tr>\n",
       "    <tr>\n",
       "      <th>2019-12-23</th>\n",
       "      <td>17128.71</td>\n",
       "    </tr>\n",
       "    <tr>\n",
       "      <th>2019-12-24</th>\n",
       "      <td>17180.15</td>\n",
       "    </tr>\n",
       "    <tr>\n",
       "      <th>2019-12-27</th>\n",
       "      <td>17168.21</td>\n",
       "    </tr>\n",
       "    <tr>\n",
       "      <th>2019-12-30</th>\n",
       "      <td>17098.56</td>\n",
       "    </tr>\n",
       "  </tbody>\n",
       "</table>\n",
       "</div>"
      ],
      "text/plain": [
       "               Close\n",
       "Date                \n",
       "2019-12-20  17118.44\n",
       "2019-12-23  17128.71\n",
       "2019-12-24  17180.15\n",
       "2019-12-27  17168.21\n",
       "2019-12-30  17098.56"
      ]
     },
     "execution_count": 131,
     "metadata": {},
     "output_type": "execute_result"
    }
   ],
   "source": [
    "sp_tsx_history.tail()"
   ]
  },
  {
   "cell_type": "code",
   "execution_count": 132,
   "metadata": {},
   "outputs": [
    {
     "data": {
      "text/html": [
       "<div>\n",
       "<style scoped>\n",
       "    .dataframe tbody tr th:only-of-type {\n",
       "        vertical-align: middle;\n",
       "    }\n",
       "\n",
       "    .dataframe tbody tr th {\n",
       "        vertical-align: top;\n",
       "    }\n",
       "\n",
       "    .dataframe thead th {\n",
       "        text-align: right;\n",
       "    }\n",
       "</style>\n",
       "<table border=\"1\" class=\"dataframe\">\n",
       "  <thead>\n",
       "    <tr style=\"text-align: right;\">\n",
       "      <th></th>\n",
       "      <th>Close</th>\n",
       "    </tr>\n",
       "    <tr>\n",
       "      <th>Date</th>\n",
       "      <th></th>\n",
       "    </tr>\n",
       "  </thead>\n",
       "  <tbody>\n",
       "    <tr>\n",
       "      <th>2012-10-01</th>\n",
       "      <td>NaN</td>\n",
       "    </tr>\n",
       "    <tr>\n",
       "      <th>2012-10-02</th>\n",
       "      <td>0.001701</td>\n",
       "    </tr>\n",
       "    <tr>\n",
       "      <th>2012-10-03</th>\n",
       "      <td>-0.002563</td>\n",
       "    </tr>\n",
       "    <tr>\n",
       "      <th>2012-10-04</th>\n",
       "      <td>0.007137</td>\n",
       "    </tr>\n",
       "    <tr>\n",
       "      <th>2012-10-05</th>\n",
       "      <td>-0.002305</td>\n",
       "    </tr>\n",
       "  </tbody>\n",
       "</table>\n",
       "</div>"
      ],
      "text/plain": [
       "               Close\n",
       "Date                \n",
       "2012-10-01       NaN\n",
       "2012-10-02  0.001701\n",
       "2012-10-03 -0.002563\n",
       "2012-10-04  0.007137\n",
       "2012-10-05 -0.002305"
      ]
     },
     "execution_count": 132,
     "metadata": {},
     "output_type": "execute_result"
    }
   ],
   "source": [
    "# Calculate Daily Returns\n",
    "daily_returns_sp_tsx_history = sp_tsx_history.pct_change()\n",
    "daily_returns_sp_tsx_history.head()\n",
    "#daily_returns_sp_tsx_history.dtypes\n"
   ]
  },
  {
   "cell_type": "code",
   "execution_count": 133,
   "metadata": {},
   "outputs": [
    {
     "data": {
      "text/plain": [
       "Close    1\n",
       "dtype: int64"
      ]
     },
     "execution_count": 133,
     "metadata": {},
     "output_type": "execute_result"
    }
   ],
   "source": [
    "# Count nulls\n",
    "daily_returns_sp_tsx_history.isnull().mean() * 100\n",
    "daily_returns_sp_tsx_history.isnull().sum()"
   ]
  },
  {
   "cell_type": "code",
   "execution_count": 134,
   "metadata": {},
   "outputs": [],
   "source": [
    "# Drop nulls\n",
    "daily_returns_sp_tsx_history = daily_returns_sp_tsx_history.dropna()"
   ]
  },
  {
   "cell_type": "code",
   "execution_count": 135,
   "metadata": {},
   "outputs": [
    {
     "data": {
      "text/html": [
       "<div>\n",
       "<style scoped>\n",
       "    .dataframe tbody tr th:only-of-type {\n",
       "        vertical-align: middle;\n",
       "    }\n",
       "\n",
       "    .dataframe tbody tr th {\n",
       "        vertical-align: top;\n",
       "    }\n",
       "\n",
       "    .dataframe thead th {\n",
       "        text-align: right;\n",
       "    }\n",
       "</style>\n",
       "<table border=\"1\" class=\"dataframe\">\n",
       "  <thead>\n",
       "    <tr style=\"text-align: right;\">\n",
       "      <th></th>\n",
       "      <th>Close</th>\n",
       "    </tr>\n",
       "    <tr>\n",
       "      <th>Date</th>\n",
       "      <th></th>\n",
       "    </tr>\n",
       "  </thead>\n",
       "  <tbody>\n",
       "    <tr>\n",
       "      <th>2012-10-02</th>\n",
       "      <td>0.001701</td>\n",
       "    </tr>\n",
       "    <tr>\n",
       "      <th>2012-10-03</th>\n",
       "      <td>-0.002563</td>\n",
       "    </tr>\n",
       "    <tr>\n",
       "      <th>2012-10-04</th>\n",
       "      <td>0.007137</td>\n",
       "    </tr>\n",
       "    <tr>\n",
       "      <th>2012-10-05</th>\n",
       "      <td>-0.002305</td>\n",
       "    </tr>\n",
       "    <tr>\n",
       "      <th>2012-10-09</th>\n",
       "      <td>-0.011709</td>\n",
       "    </tr>\n",
       "  </tbody>\n",
       "</table>\n",
       "</div>"
      ],
      "text/plain": [
       "               Close\n",
       "Date                \n",
       "2012-10-02  0.001701\n",
       "2012-10-03 -0.002563\n",
       "2012-10-04  0.007137\n",
       "2012-10-05 -0.002305\n",
       "2012-10-09 -0.011709"
      ]
     },
     "execution_count": 135,
     "metadata": {},
     "output_type": "execute_result"
    }
   ],
   "source": [
    "daily_returns_sp_tsx_history.head()"
   ]
  },
  {
   "cell_type": "code",
   "execution_count": 136,
   "metadata": {},
   "outputs": [],
   "source": [
    "# Rename `Close` Column to be specific to this portfolio.\n",
    "daily_returns_sp_tsx_history = daily_returns_sp_tsx_history.rename(columns={\"Close\" : \"S&P TSX\"})\n"
   ]
  },
  {
   "cell_type": "code",
   "execution_count": 137,
   "metadata": {},
   "outputs": [
    {
     "data": {
      "text/html": [
       "<div>\n",
       "<style scoped>\n",
       "    .dataframe tbody tr th:only-of-type {\n",
       "        vertical-align: middle;\n",
       "    }\n",
       "\n",
       "    .dataframe tbody tr th {\n",
       "        vertical-align: top;\n",
       "    }\n",
       "\n",
       "    .dataframe thead th {\n",
       "        text-align: right;\n",
       "    }\n",
       "</style>\n",
       "<table border=\"1\" class=\"dataframe\">\n",
       "  <thead>\n",
       "    <tr style=\"text-align: right;\">\n",
       "      <th></th>\n",
       "      <th>S&amp;P TSX</th>\n",
       "    </tr>\n",
       "    <tr>\n",
       "      <th>Date</th>\n",
       "      <th></th>\n",
       "    </tr>\n",
       "  </thead>\n",
       "  <tbody>\n",
       "    <tr>\n",
       "      <th>2012-10-02</th>\n",
       "      <td>0.001701</td>\n",
       "    </tr>\n",
       "    <tr>\n",
       "      <th>2012-10-03</th>\n",
       "      <td>-0.002563</td>\n",
       "    </tr>\n",
       "    <tr>\n",
       "      <th>2012-10-04</th>\n",
       "      <td>0.007137</td>\n",
       "    </tr>\n",
       "    <tr>\n",
       "      <th>2012-10-05</th>\n",
       "      <td>-0.002305</td>\n",
       "    </tr>\n",
       "    <tr>\n",
       "      <th>2012-10-09</th>\n",
       "      <td>-0.011709</td>\n",
       "    </tr>\n",
       "  </tbody>\n",
       "</table>\n",
       "</div>"
      ],
      "text/plain": [
       "             S&P TSX\n",
       "Date                \n",
       "2012-10-02  0.001701\n",
       "2012-10-03 -0.002563\n",
       "2012-10-04  0.007137\n",
       "2012-10-05 -0.002305\n",
       "2012-10-09 -0.011709"
      ]
     },
     "execution_count": 137,
     "metadata": {},
     "output_type": "execute_result"
    }
   ],
   "source": [
    "daily_returns_sp_tsx_history.head()"
   ]
  },
  {
   "cell_type": "markdown",
   "metadata": {},
   "source": [
    "## Combine Whale, Algorithmic, and S&P TSX 60 Returns"
   ]
  },
  {
   "cell_type": "code",
   "execution_count": 184,
   "metadata": {},
   "outputs": [
    {
     "data": {
      "text/html": [
       "<div>\n",
       "<style scoped>\n",
       "    .dataframe tbody tr th:only-of-type {\n",
       "        vertical-align: middle;\n",
       "    }\n",
       "\n",
       "    .dataframe tbody tr th {\n",
       "        vertical-align: top;\n",
       "    }\n",
       "\n",
       "    .dataframe thead th {\n",
       "        text-align: right;\n",
       "    }\n",
       "</style>\n",
       "<table border=\"1\" class=\"dataframe\">\n",
       "  <thead>\n",
       "    <tr style=\"text-align: right;\">\n",
       "      <th></th>\n",
       "      <th>SOROS FUND MANAGEMENT LLC</th>\n",
       "      <th>PAULSON &amp; CO.INC.</th>\n",
       "      <th>TIGER GLOBAL MANAGEMENT LLC</th>\n",
       "      <th>BERKSHIRE HATHAWAY INC</th>\n",
       "      <th>Algo 1</th>\n",
       "      <th>Algo 2</th>\n",
       "      <th>S&amp;P TSX</th>\n",
       "    </tr>\n",
       "    <tr>\n",
       "      <th>Date</th>\n",
       "      <th></th>\n",
       "      <th></th>\n",
       "      <th></th>\n",
       "      <th></th>\n",
       "      <th></th>\n",
       "      <th></th>\n",
       "      <th></th>\n",
       "    </tr>\n",
       "  </thead>\n",
       "  <tbody>\n",
       "  </tbody>\n",
       "</table>\n",
       "</div>"
      ],
      "text/plain": [
       "Empty DataFrame\n",
       "Columns: [SOROS FUND MANAGEMENT LLC, PAULSON & CO.INC. , TIGER GLOBAL MANAGEMENT LLC, BERKSHIRE HATHAWAY INC, Algo 1, Algo 2, S&P TSX]\n",
       "Index: []"
      ]
     },
     "execution_count": 184,
     "metadata": {},
     "output_type": "execute_result"
    }
   ],
   "source": [
    "# Join Whale Returns, Algorithmic Returns, and the S&P TSX 60 Returns into a single DataFrame with columns for each portfolio's returns.\n",
    "\n",
    "joined_portfolio = pd.concat([whale_portf_df,algo_returns_df,daily_returns_sp_tsx_history], axis=\"columns\", join=\"inner\")\n",
    "joined_portfolio.head()\n",
    "\n",
    "\n",
    "\n"
   ]
  },
  {
   "cell_type": "code",
   "execution_count": null,
   "metadata": {},
   "outputs": [],
   "source": []
  },
  {
   "cell_type": "code",
   "execution_count": 185,
   "metadata": {},
   "outputs": [
    {
     "data": {
      "text/plain": [
       "0"
      ]
     },
     "execution_count": 185,
     "metadata": {},
     "output_type": "execute_result"
    }
   ],
   "source": [
    "len(joined_portfolio)"
   ]
  },
  {
   "cell_type": "code",
   "execution_count": 186,
   "metadata": {},
   "outputs": [
    {
     "data": {
      "text/html": [
       "<div>\n",
       "<style scoped>\n",
       "    .dataframe tbody tr th:only-of-type {\n",
       "        vertical-align: middle;\n",
       "    }\n",
       "\n",
       "    .dataframe tbody tr th {\n",
       "        vertical-align: top;\n",
       "    }\n",
       "\n",
       "    .dataframe thead th {\n",
       "        text-align: right;\n",
       "    }\n",
       "</style>\n",
       "<table border=\"1\" class=\"dataframe\">\n",
       "  <thead>\n",
       "    <tr style=\"text-align: right;\">\n",
       "      <th></th>\n",
       "      <th>SOROS FUND MANAGEMENT LLC</th>\n",
       "      <th>PAULSON &amp; CO.INC.</th>\n",
       "      <th>TIGER GLOBAL MANAGEMENT LLC</th>\n",
       "      <th>BERKSHIRE HATHAWAY INC</th>\n",
       "      <th>Algo 1</th>\n",
       "      <th>Algo 2</th>\n",
       "      <th>S&amp;P TSX</th>\n",
       "    </tr>\n",
       "  </thead>\n",
       "  <tbody>\n",
       "    <tr>\n",
       "      <th>count</th>\n",
       "      <td>0.0</td>\n",
       "      <td>0.0</td>\n",
       "      <td>0.0</td>\n",
       "      <td>0.0</td>\n",
       "      <td>0.0</td>\n",
       "      <td>0.0</td>\n",
       "      <td>0.0</td>\n",
       "    </tr>\n",
       "    <tr>\n",
       "      <th>mean</th>\n",
       "      <td>NaN</td>\n",
       "      <td>NaN</td>\n",
       "      <td>NaN</td>\n",
       "      <td>NaN</td>\n",
       "      <td>NaN</td>\n",
       "      <td>NaN</td>\n",
       "      <td>NaN</td>\n",
       "    </tr>\n",
       "    <tr>\n",
       "      <th>std</th>\n",
       "      <td>NaN</td>\n",
       "      <td>NaN</td>\n",
       "      <td>NaN</td>\n",
       "      <td>NaN</td>\n",
       "      <td>NaN</td>\n",
       "      <td>NaN</td>\n",
       "      <td>NaN</td>\n",
       "    </tr>\n",
       "    <tr>\n",
       "      <th>min</th>\n",
       "      <td>NaN</td>\n",
       "      <td>NaN</td>\n",
       "      <td>NaN</td>\n",
       "      <td>NaN</td>\n",
       "      <td>NaN</td>\n",
       "      <td>NaN</td>\n",
       "      <td>NaN</td>\n",
       "    </tr>\n",
       "    <tr>\n",
       "      <th>25%</th>\n",
       "      <td>NaN</td>\n",
       "      <td>NaN</td>\n",
       "      <td>NaN</td>\n",
       "      <td>NaN</td>\n",
       "      <td>NaN</td>\n",
       "      <td>NaN</td>\n",
       "      <td>NaN</td>\n",
       "    </tr>\n",
       "    <tr>\n",
       "      <th>50%</th>\n",
       "      <td>NaN</td>\n",
       "      <td>NaN</td>\n",
       "      <td>NaN</td>\n",
       "      <td>NaN</td>\n",
       "      <td>NaN</td>\n",
       "      <td>NaN</td>\n",
       "      <td>NaN</td>\n",
       "    </tr>\n",
       "    <tr>\n",
       "      <th>75%</th>\n",
       "      <td>NaN</td>\n",
       "      <td>NaN</td>\n",
       "      <td>NaN</td>\n",
       "      <td>NaN</td>\n",
       "      <td>NaN</td>\n",
       "      <td>NaN</td>\n",
       "      <td>NaN</td>\n",
       "    </tr>\n",
       "    <tr>\n",
       "      <th>max</th>\n",
       "      <td>NaN</td>\n",
       "      <td>NaN</td>\n",
       "      <td>NaN</td>\n",
       "      <td>NaN</td>\n",
       "      <td>NaN</td>\n",
       "      <td>NaN</td>\n",
       "      <td>NaN</td>\n",
       "    </tr>\n",
       "  </tbody>\n",
       "</table>\n",
       "</div>"
      ],
      "text/plain": [
       "       SOROS FUND MANAGEMENT LLC  PAULSON & CO.INC.   \\\n",
       "count                        0.0                 0.0   \n",
       "mean                         NaN                 NaN   \n",
       "std                          NaN                 NaN   \n",
       "min                          NaN                 NaN   \n",
       "25%                          NaN                 NaN   \n",
       "50%                          NaN                 NaN   \n",
       "75%                          NaN                 NaN   \n",
       "max                          NaN                 NaN   \n",
       "\n",
       "       TIGER GLOBAL MANAGEMENT LLC  BERKSHIRE HATHAWAY INC  Algo 1  Algo 2  \\\n",
       "count                          0.0                     0.0     0.0     0.0   \n",
       "mean                           NaN                     NaN     NaN     NaN   \n",
       "std                            NaN                     NaN     NaN     NaN   \n",
       "min                            NaN                     NaN     NaN     NaN   \n",
       "25%                            NaN                     NaN     NaN     NaN   \n",
       "50%                            NaN                     NaN     NaN     NaN   \n",
       "75%                            NaN                     NaN     NaN     NaN   \n",
       "max                            NaN                     NaN     NaN     NaN   \n",
       "\n",
       "       S&P TSX  \n",
       "count      0.0  \n",
       "mean       NaN  \n",
       "std        NaN  \n",
       "min        NaN  \n",
       "25%        NaN  \n",
       "50%        NaN  \n",
       "75%        NaN  \n",
       "max        NaN  "
      ]
     },
     "execution_count": 186,
     "metadata": {},
     "output_type": "execute_result"
    }
   ],
   "source": [
    "joined_portfolio.describe()"
   ]
  },
  {
   "cell_type": "markdown",
   "metadata": {},
   "source": [
    "---"
   ]
  },
  {
   "cell_type": "markdown",
   "metadata": {},
   "source": [
    "# Conduct Quantitative Analysis\n",
    "\n",
    "In this section, you will calculate and visualize performance and risk metrics for the portfolios."
   ]
  },
  {
   "cell_type": "markdown",
   "metadata": {},
   "source": [
    "## Performance Anlysis\n",
    "\n",
    "#### Calculate and Plot the daily returns."
   ]
  },
  {
   "cell_type": "code",
   "execution_count": 141,
   "metadata": {},
   "outputs": [
    {
     "data": {
      "text/plain": [
       "<AxesSubplot:xlabel='Date'>"
      ]
     },
     "execution_count": 141,
     "metadata": {},
     "output_type": "execute_result"
    },
    {
     "data": {
      "image/png": "[encoded data removed]",
      "text/plain": [
       "<Figure size 1800x1080 with 1 Axes>"
      ]
     },
     "metadata": {
      "needs_background": "light"
     },
     "output_type": "display_data"
    }
   ],
   "source": [
    "# Plot daily returns of all portfolios\n",
    "joined_portfolio.plot(figsize=(25,15))"
   ]
  },
  {
   "cell_type": "markdown",
   "metadata": {},
   "source": [
    "#### Calculate and Plot cumulative returns."
   ]
  },
  {
   "cell_type": "code",
   "execution_count": 142,
   "metadata": {},
   "outputs": [
    {
     "data": {
      "text/plain": [
       "<AxesSubplot:xlabel='Date'>"
      ]
     },
     "execution_count": 142,
     "metadata": {},
     "output_type": "execute_result"
    },
    {
     "data": {
      "image/png": "[encoded data removed]",
      "text/plain": [
       "<Figure size 1800x720 with 1 Axes>"
      ]
     },
     "metadata": {
      "needs_background": "light"
     },
     "output_type": "display_data"
    }
   ],
   "source": [
    "# Calculate cumulative returns of all portfolios\n",
    "cummulative_returns = (1 + joined_portfolio).cumprod() - 1\n",
    "\n",
    "# Plot cumulative returns\n",
    "cummulative_returns.plot(figsize=(25,10))"
   ]
  },
  {
   "cell_type": "code",
   "execution_count": 143,
   "metadata": {},
   "outputs": [
    {
     "data": {
      "text/html": [
       "<div>\n",
       "<style scoped>\n",
       "    .dataframe tbody tr th:only-of-type {\n",
       "        vertical-align: middle;\n",
       "    }\n",
       "\n",
       "    .dataframe tbody tr th {\n",
       "        vertical-align: top;\n",
       "    }\n",
       "\n",
       "    .dataframe thead th {\n",
       "        text-align: right;\n",
       "    }\n",
       "</style>\n",
       "<table border=\"1\" class=\"dataframe\">\n",
       "  <thead>\n",
       "    <tr style=\"text-align: right;\">\n",
       "      <th></th>\n",
       "      <th>SOROS FUND MANAGEMENT LLC</th>\n",
       "      <th>PAULSON &amp; CO.INC.</th>\n",
       "      <th>TIGER GLOBAL MANAGEMENT LLC</th>\n",
       "      <th>BERKSHIRE HATHAWAY INC</th>\n",
       "      <th>Algo 1</th>\n",
       "      <th>Algo 2</th>\n",
       "      <th>S&amp;P TSX</th>\n",
       "    </tr>\n",
       "    <tr>\n",
       "      <th>Date</th>\n",
       "      <th></th>\n",
       "      <th></th>\n",
       "      <th></th>\n",
       "      <th></th>\n",
       "      <th></th>\n",
       "      <th></th>\n",
       "      <th></th>\n",
       "    </tr>\n",
       "  </thead>\n",
       "  <tbody>\n",
       "  </tbody>\n",
       "</table>\n",
       "</div>"
      ],
      "text/plain": [
       "Empty DataFrame\n",
       "Columns: [SOROS FUND MANAGEMENT LLC, PAULSON & CO.INC. , TIGER GLOBAL MANAGEMENT LLC, BERKSHIRE HATHAWAY INC, Algo 1, Algo 2, S&P TSX]\n",
       "Index: []"
      ]
     },
     "execution_count": 143,
     "metadata": {},
     "output_type": "execute_result"
    }
   ],
   "source": [
    "cummulative_returns.head()"
   ]
  },
  {
   "cell_type": "markdown",
   "metadata": {},
   "source": [
    "### Other than PAULSON & CO.INC and TIGER GLOBAL MANAGEMENT LLC, all the other investments are performing better than S&P TSX"
   ]
  },
  {
   "cell_type": "markdown",
   "metadata": {},
   "source": [
    "## Risk Analysis\n",
    "\n",
    "Determine the _risk_ of each portfolio:\n",
    "\n",
    "1. Create a box plot for each portfolio. \n",
    "2. Calculate the standard deviation for all portfolios.\n",
    "4. Determine which portfolios are riskier than the S&P TSX 60.\n",
    "5. Calculate the Annualized Standard Deviation."
   ]
  },
  {
   "cell_type": "markdown",
   "metadata": {},
   "source": [
    "### Create a box plot for each portfolio\n"
   ]
  },
  {
   "cell_type": "code",
   "execution_count": 144,
   "metadata": {},
   "outputs": [
    {
     "data": {
      "text/plain": [
       "<AxesSubplot:>"
      ]
     },
     "execution_count": 144,
     "metadata": {},
     "output_type": "execute_result"
    },
    {
     "data": {
      "image/png": "[encoded data removed]",
      "text/plain": [
       "<Figure size 1440x360 with 1 Axes>"
      ]
     },
     "metadata": {
      "needs_background": "light"
     },
     "output_type": "display_data"
    }
   ],
   "source": [
    "# Box plot to visually show risk\n",
    " \n",
    "joined_portfolio.plot(kind=\"box\", figsize=(20,5))"
   ]
  },
  {
   "cell_type": "markdown",
   "metadata": {},
   "source": [
    "### Calculate Standard Deviations"
   ]
  },
  {
   "cell_type": "code",
   "execution_count": 145,
   "metadata": {},
   "outputs": [
    {
     "data": {
      "text/plain": [
       "SOROS FUND MANAGEMENT LLC     NaN\n",
       "PAULSON & CO.INC.             NaN\n",
       "TIGER GLOBAL MANAGEMENT LLC   NaN\n",
       "BERKSHIRE HATHAWAY INC        NaN\n",
       "Algo 1                        NaN\n",
       "Algo 2                        NaN\n",
       "S&P TSX                       NaN\n",
       "dtype: float64"
      ]
     },
     "execution_count": 145,
     "metadata": {},
     "output_type": "execute_result"
    }
   ],
   "source": [
    "# Calculate the daily standard deviations of all portfolios\n",
    "\n",
    "std_dev_joined_portfolio = joined_portfolio.std()\n",
    "std_dev_joined_portfolio"
   ]
  },
  {
   "cell_type": "markdown",
   "metadata": {},
   "source": [
    "### Determine which portfolios are riskier than the S&P TSX 60"
   ]
  },
  {
   "cell_type": "code",
   "execution_count": 146,
   "metadata": {},
   "outputs": [
    {
     "data": {
      "text/plain": [
       "S&P TSX    0.006637\n",
       "dtype: float64"
      ]
     },
     "execution_count": 146,
     "metadata": {},
     "output_type": "execute_result"
    }
   ],
   "source": [
    "# Calculate  the daily standard deviation of S&P TSX 60\n",
    "daily_std_dev_sp_tsx = daily_returns_sp_tsx_history.std()\n",
    "daily_std_dev_sp_tsx\n"
   ]
  },
  {
   "cell_type": "code",
   "execution_count": 147,
   "metadata": {},
   "outputs": [
    {
     "data": {
      "text/plain": [
       "SOROS FUND MANAGEMENT LLC      False\n",
       "PAULSON & CO.INC.              False\n",
       "TIGER GLOBAL MANAGEMENT LLC    False\n",
       "BERKSHIRE HATHAWAY INC         False\n",
       "Algo 1                         False\n",
       "Algo 2                         False\n",
       "S&P TSX                        False\n",
       "dtype: bool"
      ]
     },
     "execution_count": 147,
     "metadata": {},
     "output_type": "execute_result"
    }
   ],
   "source": [
    "# Determine which portfolios are riskier than the S&P TSX 60\n",
    "std_dev_joined_portfolio > std_dev_joined_portfolio[\"S&P TSX\"]\n",
    "#daily_std_dev_whale > daily_std_dev_sp_tsx\n"
   ]
  },
  {
   "cell_type": "markdown",
   "metadata": {},
   "source": [
    "## \" Only PAULSON & CO.INC is less risker than S&P \""
   ]
  },
  {
   "cell_type": "markdown",
   "metadata": {},
   "source": [
    "### Calculate the Annualized Standard Deviation"
   ]
  },
  {
   "cell_type": "code",
   "execution_count": 148,
   "metadata": {},
   "outputs": [
    {
     "data": {
      "text/plain": [
       "SOROS FUND MANAGEMENT LLC     NaN\n",
       "PAULSON & CO.INC.             NaN\n",
       "TIGER GLOBAL MANAGEMENT LLC   NaN\n",
       "BERKSHIRE HATHAWAY INC        NaN\n",
       "Algo 1                        NaN\n",
       "Algo 2                        NaN\n",
       "S&P TSX                       NaN\n",
       "dtype: float64"
      ]
     },
     "execution_count": 148,
     "metadata": {},
     "output_type": "execute_result"
    }
   ],
   "source": [
    "# Calculate the annualized standard deviation (252 trading days)\n",
    "#Annualised STD DEV of the combined portfolio\n",
    "\n",
    "annual_std_dev_combined = std_dev_joined_portfolio * np.sqrt(252)\n",
    "annual_std_dev_combined"
   ]
  },
  {
   "cell_type": "markdown",
   "metadata": {},
   "source": [
    "---"
   ]
  },
  {
   "cell_type": "markdown",
   "metadata": {},
   "source": [
    "## Rolling Statistics\n",
    "\n",
    "Risk changes over time. Analyze the rolling statistics for Risk and Beta. \n",
    "\n",
    "1. Calculate and plot the rolling standard deviation for the S&P TSX 60 using a 21-day window.\n",
    "2. Calculate the correlation between each stock to determine which portfolios may mimick the S&P TSX 60.\n",
    "3. Choose one portfolio, then calculate and plot the 60-day rolling beta for it and the S&P TSX 60."
   ]
  },
  {
   "cell_type": "markdown",
   "metadata": {},
   "source": [
    "### Calculate and plot rolling `std` for all portfolios with 21-day window"
   ]
  },
  {
   "cell_type": "code",
   "execution_count": 149,
   "metadata": {},
   "outputs": [
    {
     "data": {
      "text/plain": [
       "<AxesSubplot:xlabel='Date'>"
      ]
     },
     "execution_count": 149,
     "metadata": {},
     "output_type": "execute_result"
    },
    {
     "data": {
      "image/png": "[encoded data removed]",
      "text/plain": [
       "<Figure size 1440x1080 with 1 Axes>"
      ]
     },
     "metadata": {
      "needs_background": "light"
     },
     "output_type": "display_data"
    }
   ],
   "source": [
    "# Calculate the rolling standard deviation for all portfolios using a 21-day window\n",
    "\n",
    "rolling_std_dev_portfolio = joined_portfolio.rolling(window=21).std()\n",
    "rolling_std_dev_portfolio.plot(figsize=(20,15))\n"
   ]
  },
  {
   "cell_type": "markdown",
   "metadata": {},
   "source": [
    "### Calculate and plot the correlation"
   ]
  },
  {
   "cell_type": "code",
   "execution_count": 150,
   "metadata": {},
   "outputs": [
    {
     "data": {
      "text/html": [
       "<div>\n",
       "<style scoped>\n",
       "    .dataframe tbody tr th:only-of-type {\n",
       "        vertical-align: middle;\n",
       "    }\n",
       "\n",
       "    .dataframe tbody tr th {\n",
       "        vertical-align: top;\n",
       "    }\n",
       "\n",
       "    .dataframe thead th {\n",
       "        text-align: right;\n",
       "    }\n",
       "</style>\n",
       "<table border=\"1\" class=\"dataframe\">\n",
       "  <thead>\n",
       "    <tr style=\"text-align: right;\">\n",
       "      <th></th>\n",
       "      <th>SOROS FUND MANAGEMENT LLC</th>\n",
       "      <th>PAULSON &amp; CO.INC.</th>\n",
       "      <th>TIGER GLOBAL MANAGEMENT LLC</th>\n",
       "      <th>BERKSHIRE HATHAWAY INC</th>\n",
       "      <th>Algo 1</th>\n",
       "      <th>Algo 2</th>\n",
       "      <th>S&amp;P TSX</th>\n",
       "    </tr>\n",
       "  </thead>\n",
       "  <tbody>\n",
       "    <tr>\n",
       "      <th>SOROS FUND MANAGEMENT LLC</th>\n",
       "      <td>NaN</td>\n",
       "      <td>NaN</td>\n",
       "      <td>NaN</td>\n",
       "      <td>NaN</td>\n",
       "      <td>NaN</td>\n",
       "      <td>NaN</td>\n",
       "      <td>NaN</td>\n",
       "    </tr>\n",
       "    <tr>\n",
       "      <th>PAULSON &amp; CO.INC.</th>\n",
       "      <td>NaN</td>\n",
       "      <td>NaN</td>\n",
       "      <td>NaN</td>\n",
       "      <td>NaN</td>\n",
       "      <td>NaN</td>\n",
       "      <td>NaN</td>\n",
       "      <td>NaN</td>\n",
       "    </tr>\n",
       "    <tr>\n",
       "      <th>TIGER GLOBAL MANAGEMENT LLC</th>\n",
       "      <td>NaN</td>\n",
       "      <td>NaN</td>\n",
       "      <td>NaN</td>\n",
       "      <td>NaN</td>\n",
       "      <td>NaN</td>\n",
       "      <td>NaN</td>\n",
       "      <td>NaN</td>\n",
       "    </tr>\n",
       "    <tr>\n",
       "      <th>BERKSHIRE HATHAWAY INC</th>\n",
       "      <td>NaN</td>\n",
       "      <td>NaN</td>\n",
       "      <td>NaN</td>\n",
       "      <td>NaN</td>\n",
       "      <td>NaN</td>\n",
       "      <td>NaN</td>\n",
       "      <td>NaN</td>\n",
       "    </tr>\n",
       "    <tr>\n",
       "      <th>Algo 1</th>\n",
       "      <td>NaN</td>\n",
       "      <td>NaN</td>\n",
       "      <td>NaN</td>\n",
       "      <td>NaN</td>\n",
       "      <td>NaN</td>\n",
       "      <td>NaN</td>\n",
       "      <td>NaN</td>\n",
       "    </tr>\n",
       "    <tr>\n",
       "      <th>Algo 2</th>\n",
       "      <td>NaN</td>\n",
       "      <td>NaN</td>\n",
       "      <td>NaN</td>\n",
       "      <td>NaN</td>\n",
       "      <td>NaN</td>\n",
       "      <td>NaN</td>\n",
       "      <td>NaN</td>\n",
       "    </tr>\n",
       "    <tr>\n",
       "      <th>S&amp;P TSX</th>\n",
       "      <td>NaN</td>\n",
       "      <td>NaN</td>\n",
       "      <td>NaN</td>\n",
       "      <td>NaN</td>\n",
       "      <td>NaN</td>\n",
       "      <td>NaN</td>\n",
       "      <td>NaN</td>\n",
       "    </tr>\n",
       "  </tbody>\n",
       "</table>\n",
       "</div>"
      ],
      "text/plain": [
       "                             SOROS FUND MANAGEMENT LLC  PAULSON & CO.INC.   \\\n",
       "SOROS FUND MANAGEMENT LLC                          NaN                 NaN   \n",
       "PAULSON & CO.INC.                                  NaN                 NaN   \n",
       "TIGER GLOBAL MANAGEMENT LLC                        NaN                 NaN   \n",
       "BERKSHIRE HATHAWAY INC                             NaN                 NaN   \n",
       "Algo 1                                             NaN                 NaN   \n",
       "Algo 2                                             NaN                 NaN   \n",
       "S&P TSX                                            NaN                 NaN   \n",
       "\n",
       "                             TIGER GLOBAL MANAGEMENT LLC  \\\n",
       "SOROS FUND MANAGEMENT LLC                            NaN   \n",
       "PAULSON & CO.INC.                                    NaN   \n",
       "TIGER GLOBAL MANAGEMENT LLC                          NaN   \n",
       "BERKSHIRE HATHAWAY INC                               NaN   \n",
       "Algo 1                                               NaN   \n",
       "Algo 2                                               NaN   \n",
       "S&P TSX                                              NaN   \n",
       "\n",
       "                             BERKSHIRE HATHAWAY INC  Algo 1  Algo 2  S&P TSX  \n",
       "SOROS FUND MANAGEMENT LLC                       NaN     NaN     NaN      NaN  \n",
       "PAULSON & CO.INC.                               NaN     NaN     NaN      NaN  \n",
       "TIGER GLOBAL MANAGEMENT LLC                     NaN     NaN     NaN      NaN  \n",
       "BERKSHIRE HATHAWAY INC                          NaN     NaN     NaN      NaN  \n",
       "Algo 1                                          NaN     NaN     NaN      NaN  \n",
       "Algo 2                                          NaN     NaN     NaN      NaN  \n",
       "S&P TSX                                         NaN     NaN     NaN      NaN  "
      ]
     },
     "execution_count": 150,
     "metadata": {},
     "output_type": "execute_result"
    }
   ],
   "source": [
    "# Calculate the correlation\n",
    "correlation_portfolio = joined_portfolio.corr()\n",
    "\n",
    "# Display de correlation matrix\n",
    "correlation_portfolio"
   ]
  },
  {
   "cell_type": "code",
   "execution_count": 151,
   "metadata": {},
   "outputs": [
    {
     "data": {
      "image/png": "[encoded data removed]",
      "text/plain": [
       "<Figure size 432x288 with 2 Axes>"
      ]
     },
     "metadata": {
      "needs_background": "light"
     },
     "output_type": "display_data"
    }
   ],
   "source": [
    "import matplotlib.pyplot as plt \n",
    "ax=plt.axes()\n",
    "sns.heatmap(correlation_portfolio, vmin=-1, vmax=1, annot=True, ax=ax)\n",
    "\n",
    "ax.set_title(\"Correlation of the Portfolio\")\n",
    "plt.show()"
   ]
  },
  {
   "cell_type": "markdown",
   "metadata": {},
   "source": [
    "### Calculate and Plot Beta for a chosen portfolio and the S&P 60 TSX"
   ]
  },
  {
   "cell_type": "code",
   "execution_count": 152,
   "metadata": {},
   "outputs": [],
   "source": [
    "# Calculate covariance of a single portfolio\n",
    "# Plot beta trend\n",
    "\n",
    "# 60-Day rolling beta trend of ALGO 2\n",
    "rolling_covar = joined_portfolio[\"Algo 2\"].rolling(window=60).cov(joined_portfolio[\"S&P TSX\"])\n",
    "#rolling_covar\n",
    "rolling_var = joined_portfolio[\"S&P TSX\"].rolling(window=60).var()\n",
    "#rolling_var\n",
    "beta = rolling_covar / rolling_var"
   ]
  },
  {
   "cell_type": "code",
   "execution_count": 153,
   "metadata": {},
   "outputs": [
    {
     "data": {
      "text/plain": [
       "<AxesSubplot:title={'center':' 60-DAY Rolling BETA of ALGO 2'}, xlabel='Date'>"
      ]
     },
     "execution_count": 153,
     "metadata": {},
     "output_type": "execute_result"
    },
    {
     "data": {
      "image/png": "[encoded data removed]",
      "text/plain": [
       "<Figure size 1080x720 with 1 Axes>"
      ]
     },
     "metadata": {
      "needs_background": "light"
     },
     "output_type": "display_data"
    }
   ],
   "source": [
    "\n",
    "beta.plot(figsize=(15,10), title = \" 60-DAY Rolling BETA of ALGO 2\")\n",
    "#ax.legend([\"ALGO2\", \"S&P TSX\"],figsize=(15,10))"
   ]
  },
  {
   "cell_type": "markdown",
   "metadata": {},
   "source": [
    "## Rolling Statistics Challenge: Exponentially Weighted Average \n",
    "\n",
    "An alternative way to calculate a rolling window is to take the exponentially weighted moving average. This is like a moving window average, but it assigns greater importance to more recent observations. Try calculating the [`ewm`](https://pandas.pydata.org/pandas-docs/stable/reference/api/pandas.DataFrame.ewm.html) with a 21-day half-life."
   ]
  },
  {
   "cell_type": "code",
   "execution_count": 154,
   "metadata": {},
   "outputs": [
    {
     "data": {
      "text/plain": [
       "<AxesSubplot:title={'center':'Exponentially Weighted Average - 21 day Halflife '}, xlabel='Date'>"
      ]
     },
     "execution_count": 154,
     "metadata": {},
     "output_type": "execute_result"
    },
    {
     "data": {
      "image/png": "[encoded data removed]",
      "text/plain": [
       "<Figure size 1080x720 with 1 Axes>"
      ]
     },
     "metadata": {
      "needs_background": "light"
     },
     "output_type": "display_data"
    }
   ],
   "source": [
    "# Use `ewm` to calculate the rolling window\n",
    "joined_portfolio.ewm(halflife=21).std().plot(figsize=(15,10), title = \"Exponentially Weighted Average - 21 day Halflife \")"
   ]
  },
  {
   "cell_type": "markdown",
   "metadata": {},
   "source": [
    "---"
   ]
  },
  {
   "cell_type": "markdown",
   "metadata": {},
   "source": [
    "# Sharpe Ratios\n",
    "In reality, investment managers and thier institutional investors look at the ratio of return-to-risk, and not just returns alone. After all, if you could invest in one of two portfolios, and each offered the same 10% return, yet one offered lower risk, you'd take that one, right?\n",
    "\n",
    "### Using the daily returns, calculate and visualize the Sharpe ratios using a bar plot"
   ]
  },
  {
   "cell_type": "code",
   "execution_count": 155,
   "metadata": {},
   "outputs": [
    {
     "data": {
      "text/plain": [
       "SOROS FUND MANAGEMENT LLC     NaN\n",
       "PAULSON & CO.INC.             NaN\n",
       "TIGER GLOBAL MANAGEMENT LLC   NaN\n",
       "BERKSHIRE HATHAWAY INC        NaN\n",
       "Algo 1                        NaN\n",
       "Algo 2                        NaN\n",
       "S&P TSX                       NaN\n",
       "dtype: float64"
      ]
     },
     "execution_count": 155,
     "metadata": {},
     "output_type": "execute_result"
    }
   ],
   "source": [
    "# Annualized Sharpe Ratios\n",
    "sharpe_ratios = (joined_portfolio.mean() * 252) / (joined_portfolio.std() * np.sqrt(252))\n",
    "sharpe_ratios"
   ]
  },
  {
   "cell_type": "code",
   "execution_count": 156,
   "metadata": {},
   "outputs": [
    {
     "data": {
      "text/plain": [
       "<AxesSubplot:title={'center':'Sharpe Ratio of the Portfolio'}>"
      ]
     },
     "execution_count": 156,
     "metadata": {},
     "output_type": "execute_result"
    },
    {
     "data": {
      "image/png": "[encoded data removed]",
      "text/plain": [
       "<Figure size 720x504 with 1 Axes>"
      ]
     },
     "metadata": {
      "needs_background": "light"
     },
     "output_type": "display_data"
    }
   ],
   "source": [
    "# Visualize the sharpe ratios as a bar plot\n",
    "sharpe_ratios.plot(figsize=(10,7), kind=\"bar\", title=\"Sharpe Ratio of the Portfolio\")"
   ]
  },
  {
   "cell_type": "markdown",
   "metadata": {},
   "source": [
    "### Determine whether the algorithmic strategies outperform both the market (S&P TSX 60) and the whales portfolios.\n",
    "\n",
    "Write your answer here!"
   ]
  },
  {
   "cell_type": "markdown",
   "metadata": {},
   "source": []
  },
  {
   "cell_type": "markdown",
   "metadata": {},
   "source": [
    "# Create Custom Portfolio\n",
    "\n",
    "In this section, you will build your own portfolio of stocks, calculate the returns, and compare the results to the Whale Portfolios and the S&P TSX 60. \n",
    "\n",
    "1. Choose 3-5 custom stocks with at last 1 year's worth of historic prices and create a DataFrame of the closing prices and dates for each stock.\n",
    "2. Calculate the weighted returns for the portfolio assuming an equal number of shares for each stock.\n",
    "3. Join your portfolio returns to the DataFrame that contains all of the portfolio returns.\n",
    "4. Re-run the performance and risk analysis with your portfolio to see how it compares to the others.\n",
    "5. Include correlation analysis to determine which stocks (if any) are correlated."
   ]
  },
  {
   "cell_type": "markdown",
   "metadata": {},
   "source": [
    "## Choose 3-5 custom stocks with at last 1 year's worth of historic prices and create a DataFrame of the closing prices and dates for each stock.\n",
    "\n",
    "For this demo solution, we fetch data from three companies listes in the S&P TSX 60 index.\n",
    "\n",
    "* `SHOP` - [Shopify Inc](https://en.wikipedia.org/wiki/Shopify)\n",
    "\n",
    "* `OTEX` - [Open Text Corporation](https://en.wikipedia.org/wiki/OpenText)\n",
    "\n",
    "* `L` - [Loblaw Companies Limited](https://en.wikipedia.org/wiki/Loblaw_Companies)"
   ]
  },
  {
   "cell_type": "code",
   "execution_count": 157,
   "metadata": {},
   "outputs": [],
   "source": [
    "# Reading data from 1st stock\n",
    "csvpath_l = (\"l_historical.csv\") \n",
    "loblaw_df = pd.read_csv(csvpath_l, infer_datetime_format=True , parse_dates=True)\n",
    "loblaw_df.set_index(\"Date\", inplace=True)\n",
    "#loblaw_df = loblaw_df.sort_index()"
   ]
  },
  {
   "cell_type": "code",
   "execution_count": 158,
   "metadata": {},
   "outputs": [],
   "source": [
    "# Reading data from 2nd stock\n",
    "csvpath_cgi = (\"cgi_historical.csv\") \n",
    "cgi_df = pd.read_csv(csvpath_cgi, infer_datetime_format=True , parse_dates=True)\n",
    "cgi_df.set_index(\"Date\", inplace=True)\n",
    "#cgi_df = cgi_df.sort_index()"
   ]
  },
  {
   "cell_type": "code",
   "execution_count": 159,
   "metadata": {},
   "outputs": [
    {
     "data": {
      "text/html": [
       "<div>\n",
       "<style scoped>\n",
       "    .dataframe tbody tr th:only-of-type {\n",
       "        vertical-align: middle;\n",
       "    }\n",
       "\n",
       "    .dataframe tbody tr th {\n",
       "        vertical-align: top;\n",
       "    }\n",
       "\n",
       "    .dataframe thead th {\n",
       "        text-align: right;\n",
       "    }\n",
       "</style>\n",
       "<table border=\"1\" class=\"dataframe\">\n",
       "  <thead>\n",
       "    <tr style=\"text-align: right;\">\n",
       "      <th></th>\n",
       "      <th>Symbol</th>\n",
       "      <th>Close</th>\n",
       "    </tr>\n",
       "    <tr>\n",
       "      <th>Date</th>\n",
       "      <th></th>\n",
       "      <th></th>\n",
       "    </tr>\n",
       "  </thead>\n",
       "  <tbody>\n",
       "    <tr>\n",
       "      <th>02/01/2014</th>\n",
       "      <td>BNS</td>\n",
       "      <td>61.98</td>\n",
       "    </tr>\n",
       "    <tr>\n",
       "      <th>03/01/2014</th>\n",
       "      <td>BNS</td>\n",
       "      <td>61.50</td>\n",
       "    </tr>\n",
       "    <tr>\n",
       "      <th>06/01/2014</th>\n",
       "      <td>BNS</td>\n",
       "      <td>60.75</td>\n",
       "    </tr>\n",
       "    <tr>\n",
       "      <th>07/01/2014</th>\n",
       "      <td>BNS</td>\n",
       "      <td>59.89</td>\n",
       "    </tr>\n",
       "    <tr>\n",
       "      <th>08/01/2014</th>\n",
       "      <td>BNS</td>\n",
       "      <td>59.63</td>\n",
       "    </tr>\n",
       "  </tbody>\n",
       "</table>\n",
       "</div>"
      ],
      "text/plain": [
       "           Symbol  Close\n",
       "Date                    \n",
       "02/01/2014    BNS  61.98\n",
       "03/01/2014    BNS  61.50\n",
       "06/01/2014    BNS  60.75\n",
       "07/01/2014    BNS  59.89\n",
       "08/01/2014    BNS  59.63"
      ]
     },
     "execution_count": 159,
     "metadata": {},
     "output_type": "execute_result"
    }
   ],
   "source": [
    "# Reading data from 3rd stock\n",
    "csvpath_bns = (\"bns_historical.csv\")\n",
    "bns_df = pd.read_csv(csvpath_bns, infer_datetime_format=True , parse_dates=True)\n",
    "bns_df.set_index(\"Date\", inplace=True)\n",
    "bns_df.head()"
   ]
  },
  {
   "cell_type": "code",
   "execution_count": 160,
   "metadata": {},
   "outputs": [],
   "source": [
    "# Reading data from 4th stock (Tesla)\n",
    "csvpath_td = (\"td_historical.csv\") \n",
    "td_df = pd.read_csv(csvpath_td, infer_datetime_format=True ,  parse_dates=True)\n",
    "td_df.set_index(\"Date\", inplace=True)\n",
    "#td_df = td_df.sort_index()"
   ]
  },
  {
   "cell_type": "code",
   "execution_count": 161,
   "metadata": {},
   "outputs": [],
   "source": [
    "# Reading data from 5th stock (Apple)\n",
    "csvpath_bce = (\"bce_historical.csv\") \n",
    "bce_df = pd.read_csv(csvpath_bce,infer_datetime_format=True , parse_dates=True)\n",
    "bce_df.set_index(\"Date\", inplace=True)\n",
    "#bce_df = bce_df.sort_index()"
   ]
  },
  {
   "cell_type": "code",
   "execution_count": 162,
   "metadata": {},
   "outputs": [],
   "source": [
    "# Reading data from S&P TSX from Jan 2nd 2018 to Dec 31 2019\n",
    "csvpath_sptsx = (\"sp_tsx_history.csv\") \n",
    "sptsx_df = pd.read_csv(csvpath_sptsx, infer_datetime_format=True , parse_dates=True)\n",
    "sptsx_df.set_index(\"Date\", inplace=True)\n",
    "#sptsx_df = sptsx_df.sort_index()"
   ]
  },
  {
   "cell_type": "code",
   "execution_count": 163,
   "metadata": {},
   "outputs": [
    {
     "data": {
      "text/html": [
       "<div>\n",
       "<style scoped>\n",
       "    .dataframe tbody tr th:only-of-type {\n",
       "        vertical-align: middle;\n",
       "    }\n",
       "\n",
       "    .dataframe tbody tr th {\n",
       "        vertical-align: top;\n",
       "    }\n",
       "\n",
       "    .dataframe thead th {\n",
       "        text-align: right;\n",
       "    }\n",
       "</style>\n",
       "<table border=\"1\" class=\"dataframe\">\n",
       "  <thead>\n",
       "    <tr style=\"text-align: right;\">\n",
       "      <th></th>\n",
       "      <th>Symbol</th>\n",
       "      <th>Close</th>\n",
       "      <th>Symbol</th>\n",
       "      <th>Close</th>\n",
       "      <th>Symbol</th>\n",
       "      <th>Close</th>\n",
       "      <th>Symbol</th>\n",
       "      <th>Close</th>\n",
       "      <th>Symbol</th>\n",
       "      <th>Close</th>\n",
       "    </tr>\n",
       "    <tr>\n",
       "      <th>Date</th>\n",
       "      <th></th>\n",
       "      <th></th>\n",
       "      <th></th>\n",
       "      <th></th>\n",
       "      <th></th>\n",
       "      <th></th>\n",
       "      <th></th>\n",
       "      <th></th>\n",
       "      <th></th>\n",
       "      <th></th>\n",
       "    </tr>\n",
       "  </thead>\n",
       "  <tbody>\n",
       "    <tr>\n",
       "      <th>03/03/2014</th>\n",
       "      <td>L</td>\n",
       "      <td>43.15</td>\n",
       "      <td>GIB.A</td>\n",
       "      <td>35.06</td>\n",
       "      <td>BNS</td>\n",
       "      <td>56.87</td>\n",
       "      <td>TD</td>\n",
       "      <td>45.06</td>\n",
       "      <td>BCE</td>\n",
       "      <td>43.43</td>\n",
       "    </tr>\n",
       "    <tr>\n",
       "      <th>04/03/2014</th>\n",
       "      <td>L</td>\n",
       "      <td>43.89</td>\n",
       "      <td>GIB.A</td>\n",
       "      <td>35.64</td>\n",
       "      <td>BNS</td>\n",
       "      <td>56.88</td>\n",
       "      <td>TD</td>\n",
       "      <td>45.13</td>\n",
       "      <td>BCE</td>\n",
       "      <td>43.42</td>\n",
       "    </tr>\n",
       "    <tr>\n",
       "      <th>05/03/2014</th>\n",
       "      <td>L</td>\n",
       "      <td>44.04</td>\n",
       "      <td>GIB.A</td>\n",
       "      <td>36.16</td>\n",
       "      <td>BNS</td>\n",
       "      <td>57.68</td>\n",
       "      <td>TD</td>\n",
       "      <td>45.59</td>\n",
       "      <td>BCE</td>\n",
       "      <td>43.77</td>\n",
       "    </tr>\n",
       "    <tr>\n",
       "      <th>06/03/2014</th>\n",
       "      <td>L</td>\n",
       "      <td>44.40</td>\n",
       "      <td>GIB.A</td>\n",
       "      <td>36.34</td>\n",
       "      <td>BNS</td>\n",
       "      <td>58.02</td>\n",
       "      <td>TD</td>\n",
       "      <td>45.88</td>\n",
       "      <td>BCE</td>\n",
       "      <td>43.97</td>\n",
       "    </tr>\n",
       "    <tr>\n",
       "      <th>07/03/2014</th>\n",
       "      <td>L</td>\n",
       "      <td>45.05</td>\n",
       "      <td>GIB.A</td>\n",
       "      <td>35.93</td>\n",
       "      <td>BNS</td>\n",
       "      <td>57.36</td>\n",
       "      <td>TD</td>\n",
       "      <td>45.48</td>\n",
       "      <td>BCE</td>\n",
       "      <td>43.63</td>\n",
       "    </tr>\n",
       "    <tr>\n",
       "      <th>10/03/2014</th>\n",
       "      <td>L</td>\n",
       "      <td>44.64</td>\n",
       "      <td>GIB.A</td>\n",
       "      <td>36.47</td>\n",
       "      <td>BNS</td>\n",
       "      <td>57.69</td>\n",
       "      <td>TD</td>\n",
       "      <td>45.92</td>\n",
       "      <td>BCE</td>\n",
       "      <td>43.64</td>\n",
       "    </tr>\n",
       "    <tr>\n",
       "      <th>11/03/2014</th>\n",
       "      <td>L</td>\n",
       "      <td>44.39</td>\n",
       "      <td>GIB.A</td>\n",
       "      <td>35.03</td>\n",
       "      <td>BNS</td>\n",
       "      <td>58.35</td>\n",
       "      <td>TD</td>\n",
       "      <td>46.40</td>\n",
       "      <td>BCE</td>\n",
       "      <td>43.51</td>\n",
       "    </tr>\n",
       "    <tr>\n",
       "      <th>12/03/2014</th>\n",
       "      <td>L</td>\n",
       "      <td>44.70</td>\n",
       "      <td>GIB.A</td>\n",
       "      <td>35.60</td>\n",
       "      <td>BNS</td>\n",
       "      <td>58.59</td>\n",
       "      <td>TD</td>\n",
       "      <td>46.58</td>\n",
       "      <td>BCE</td>\n",
       "      <td>42.71</td>\n",
       "    </tr>\n",
       "    <tr>\n",
       "      <th>13/03/2014</th>\n",
       "      <td>L</td>\n",
       "      <td>44.38</td>\n",
       "      <td>GIB.A</td>\n",
       "      <td>34.85</td>\n",
       "      <td>BNS</td>\n",
       "      <td>58.43</td>\n",
       "      <td>TD</td>\n",
       "      <td>46.54</td>\n",
       "      <td>BCE</td>\n",
       "      <td>42.58</td>\n",
       "    </tr>\n",
       "    <tr>\n",
       "      <th>14/03/2014</th>\n",
       "      <td>L</td>\n",
       "      <td>43.97</td>\n",
       "      <td>GIB.A</td>\n",
       "      <td>34.16</td>\n",
       "      <td>BNS</td>\n",
       "      <td>57.98</td>\n",
       "      <td>TD</td>\n",
       "      <td>46.16</td>\n",
       "      <td>BCE</td>\n",
       "      <td>42.22</td>\n",
       "    </tr>\n",
       "    <tr>\n",
       "      <th>17/03/2014</th>\n",
       "      <td>L</td>\n",
       "      <td>43.97</td>\n",
       "      <td>GIB.A</td>\n",
       "      <td>34.70</td>\n",
       "      <td>BNS</td>\n",
       "      <td>58.27</td>\n",
       "      <td>TD</td>\n",
       "      <td>46.52</td>\n",
       "      <td>BCE</td>\n",
       "      <td>42.59</td>\n",
       "    </tr>\n",
       "    <tr>\n",
       "      <th>18/03/2014</th>\n",
       "      <td>L</td>\n",
       "      <td>43.93</td>\n",
       "      <td>GIB.A</td>\n",
       "      <td>34.77</td>\n",
       "      <td>BNS</td>\n",
       "      <td>58.23</td>\n",
       "      <td>TD</td>\n",
       "      <td>46.43</td>\n",
       "      <td>BCE</td>\n",
       "      <td>42.90</td>\n",
       "    </tr>\n",
       "    <tr>\n",
       "      <th>19/03/2014</th>\n",
       "      <td>L</td>\n",
       "      <td>43.68</td>\n",
       "      <td>GIB.A</td>\n",
       "      <td>35.16</td>\n",
       "      <td>BNS</td>\n",
       "      <td>57.48</td>\n",
       "      <td>TD</td>\n",
       "      <td>45.86</td>\n",
       "      <td>BCE</td>\n",
       "      <td>42.64</td>\n",
       "    </tr>\n",
       "    <tr>\n",
       "      <th>20/03/2014</th>\n",
       "      <td>L</td>\n",
       "      <td>43.91</td>\n",
       "      <td>GIB.A</td>\n",
       "      <td>35.39</td>\n",
       "      <td>BNS</td>\n",
       "      <td>57.63</td>\n",
       "      <td>TD</td>\n",
       "      <td>46.09</td>\n",
       "      <td>BCE</td>\n",
       "      <td>42.70</td>\n",
       "    </tr>\n",
       "    <tr>\n",
       "      <th>21/03/2014</th>\n",
       "      <td>L</td>\n",
       "      <td>44.23</td>\n",
       "      <td>GIB.A</td>\n",
       "      <td>34.36</td>\n",
       "      <td>BNS</td>\n",
       "      <td>57.95</td>\n",
       "      <td>TD</td>\n",
       "      <td>46.03</td>\n",
       "      <td>BCE</td>\n",
       "      <td>42.55</td>\n",
       "    </tr>\n",
       "    <tr>\n",
       "      <th>24/03/2014</th>\n",
       "      <td>L</td>\n",
       "      <td>43.59</td>\n",
       "      <td>GIB.A</td>\n",
       "      <td>34.41</td>\n",
       "      <td>BNS</td>\n",
       "      <td>58.00</td>\n",
       "      <td>TD</td>\n",
       "      <td>46.20</td>\n",
       "      <td>BCE</td>\n",
       "      <td>42.35</td>\n",
       "    </tr>\n",
       "    <tr>\n",
       "      <th>25/03/2014</th>\n",
       "      <td>L</td>\n",
       "      <td>43.59</td>\n",
       "      <td>GIB.A</td>\n",
       "      <td>34.83</td>\n",
       "      <td>BNS</td>\n",
       "      <td>58.13</td>\n",
       "      <td>TD</td>\n",
       "      <td>46.37</td>\n",
       "      <td>BCE</td>\n",
       "      <td>42.26</td>\n",
       "    </tr>\n",
       "    <tr>\n",
       "      <th>26/03/2014</th>\n",
       "      <td>L</td>\n",
       "      <td>43.17</td>\n",
       "      <td>GIB.A</td>\n",
       "      <td>34.26</td>\n",
       "      <td>BNS</td>\n",
       "      <td>58.31</td>\n",
       "      <td>TD</td>\n",
       "      <td>46.50</td>\n",
       "      <td>BCE</td>\n",
       "      <td>42.34</td>\n",
       "    </tr>\n",
       "    <tr>\n",
       "      <th>27/03/2014</th>\n",
       "      <td>L</td>\n",
       "      <td>43.03</td>\n",
       "      <td>GIB.A</td>\n",
       "      <td>33.99</td>\n",
       "      <td>BNS</td>\n",
       "      <td>58.21</td>\n",
       "      <td>TD</td>\n",
       "      <td>46.58</td>\n",
       "      <td>BCE</td>\n",
       "      <td>42.66</td>\n",
       "    </tr>\n",
       "    <tr>\n",
       "      <th>28/03/2014</th>\n",
       "      <td>L</td>\n",
       "      <td>43.42</td>\n",
       "      <td>GIB.A</td>\n",
       "      <td>33.97</td>\n",
       "      <td>BNS</td>\n",
       "      <td>57.54</td>\n",
       "      <td>TD</td>\n",
       "      <td>46.54</td>\n",
       "      <td>BCE</td>\n",
       "      <td>42.93</td>\n",
       "    </tr>\n",
       "    <tr>\n",
       "      <th>31/03/2014</th>\n",
       "      <td>L</td>\n",
       "      <td>44.05</td>\n",
       "      <td>GIB.A</td>\n",
       "      <td>34.13</td>\n",
       "      <td>BNS</td>\n",
       "      <td>58.02</td>\n",
       "      <td>TD</td>\n",
       "      <td>46.95</td>\n",
       "      <td>BCE</td>\n",
       "      <td>43.14</td>\n",
       "    </tr>\n",
       "    <tr>\n",
       "      <th>01/04/2014</th>\n",
       "      <td>L</td>\n",
       "      <td>44.35</td>\n",
       "      <td>GIB.A</td>\n",
       "      <td>34.18</td>\n",
       "      <td>BNS</td>\n",
       "      <td>58.68</td>\n",
       "      <td>TD</td>\n",
       "      <td>46.79</td>\n",
       "      <td>BCE</td>\n",
       "      <td>43.39</td>\n",
       "    </tr>\n",
       "    <tr>\n",
       "      <th>02/04/2014</th>\n",
       "      <td>L</td>\n",
       "      <td>44.65</td>\n",
       "      <td>GIB.A</td>\n",
       "      <td>34.82</td>\n",
       "      <td>BNS</td>\n",
       "      <td>58.77</td>\n",
       "      <td>TD</td>\n",
       "      <td>46.82</td>\n",
       "      <td>BCE</td>\n",
       "      <td>43.57</td>\n",
       "    </tr>\n",
       "    <tr>\n",
       "      <th>03/04/2014</th>\n",
       "      <td>L</td>\n",
       "      <td>44.88</td>\n",
       "      <td>GIB.A</td>\n",
       "      <td>35.30</td>\n",
       "      <td>BNS</td>\n",
       "      <td>58.76</td>\n",
       "      <td>TD</td>\n",
       "      <td>46.72</td>\n",
       "      <td>BCE</td>\n",
       "      <td>43.18</td>\n",
       "    </tr>\n",
       "    <tr>\n",
       "      <th>04/04/2014</th>\n",
       "      <td>L</td>\n",
       "      <td>44.70</td>\n",
       "      <td>GIB.A</td>\n",
       "      <td>34.77</td>\n",
       "      <td>BNS</td>\n",
       "      <td>59.09</td>\n",
       "      <td>TD</td>\n",
       "      <td>46.86</td>\n",
       "      <td>BCE</td>\n",
       "      <td>43.55</td>\n",
       "    </tr>\n",
       "    <tr>\n",
       "      <th>07/04/2014</th>\n",
       "      <td>L</td>\n",
       "      <td>44.15</td>\n",
       "      <td>GIB.A</td>\n",
       "      <td>34.08</td>\n",
       "      <td>BNS</td>\n",
       "      <td>58.87</td>\n",
       "      <td>TD</td>\n",
       "      <td>46.74</td>\n",
       "      <td>BCE</td>\n",
       "      <td>43.76</td>\n",
       "    </tr>\n",
       "    <tr>\n",
       "      <th>08/04/2014</th>\n",
       "      <td>L</td>\n",
       "      <td>44.52</td>\n",
       "      <td>GIB.A</td>\n",
       "      <td>34.69</td>\n",
       "      <td>BNS</td>\n",
       "      <td>59.40</td>\n",
       "      <td>TD</td>\n",
       "      <td>47.28</td>\n",
       "      <td>BCE</td>\n",
       "      <td>44.12</td>\n",
       "    </tr>\n",
       "    <tr>\n",
       "      <th>09/04/2014</th>\n",
       "      <td>L</td>\n",
       "      <td>44.54</td>\n",
       "      <td>GIB.A</td>\n",
       "      <td>35.94</td>\n",
       "      <td>BNS</td>\n",
       "      <td>59.68</td>\n",
       "      <td>TD</td>\n",
       "      <td>47.62</td>\n",
       "      <td>BCE</td>\n",
       "      <td>44.33</td>\n",
       "    </tr>\n",
       "    <tr>\n",
       "      <th>10/04/2014</th>\n",
       "      <td>L</td>\n",
       "      <td>43.92</td>\n",
       "      <td>GIB.A</td>\n",
       "      <td>35.00</td>\n",
       "      <td>BNS</td>\n",
       "      <td>58.75</td>\n",
       "      <td>TD</td>\n",
       "      <td>46.69</td>\n",
       "      <td>BCE</td>\n",
       "      <td>43.99</td>\n",
       "    </tr>\n",
       "    <tr>\n",
       "      <th>11/04/2014</th>\n",
       "      <td>L</td>\n",
       "      <td>43.44</td>\n",
       "      <td>GIB.A</td>\n",
       "      <td>35.19</td>\n",
       "      <td>BNS</td>\n",
       "      <td>58.51</td>\n",
       "      <td>TD</td>\n",
       "      <td>46.45</td>\n",
       "      <td>BCE</td>\n",
       "      <td>43.87</td>\n",
       "    </tr>\n",
       "  </tbody>\n",
       "</table>\n",
       "</div>"
      ],
      "text/plain": [
       "           Symbol  Close Symbol  Close Symbol  Close Symbol  Close Symbol  \\\n",
       "Date                                                                        \n",
       "03/03/2014      L  43.15  GIB.A  35.06    BNS  56.87     TD  45.06    BCE   \n",
       "04/03/2014      L  43.89  GIB.A  35.64    BNS  56.88     TD  45.13    BCE   \n",
       "05/03/2014      L  44.04  GIB.A  36.16    BNS  57.68     TD  45.59    BCE   \n",
       "06/03/2014      L  44.40  GIB.A  36.34    BNS  58.02     TD  45.88    BCE   \n",
       "07/03/2014      L  45.05  GIB.A  35.93    BNS  57.36     TD  45.48    BCE   \n",
       "10/03/2014      L  44.64  GIB.A  36.47    BNS  57.69     TD  45.92    BCE   \n",
       "11/03/2014      L  44.39  GIB.A  35.03    BNS  58.35     TD  46.40    BCE   \n",
       "12/03/2014      L  44.70  GIB.A  35.60    BNS  58.59     TD  46.58    BCE   \n",
       "13/03/2014      L  44.38  GIB.A  34.85    BNS  58.43     TD  46.54    BCE   \n",
       "14/03/2014      L  43.97  GIB.A  34.16    BNS  57.98     TD  46.16    BCE   \n",
       "17/03/2014      L  43.97  GIB.A  34.70    BNS  58.27     TD  46.52    BCE   \n",
       "18/03/2014      L  43.93  GIB.A  34.77    BNS  58.23     TD  46.43    BCE   \n",
       "19/03/2014      L  43.68  GIB.A  35.16    BNS  57.48     TD  45.86    BCE   \n",
       "20/03/2014      L  43.91  GIB.A  35.39    BNS  57.63     TD  46.09    BCE   \n",
       "21/03/2014      L  44.23  GIB.A  34.36    BNS  57.95     TD  46.03    BCE   \n",
       "24/03/2014      L  43.59  GIB.A  34.41    BNS  58.00     TD  46.20    BCE   \n",
       "25/03/2014      L  43.59  GIB.A  34.83    BNS  58.13     TD  46.37    BCE   \n",
       "26/03/2014      L  43.17  GIB.A  34.26    BNS  58.31     TD  46.50    BCE   \n",
       "27/03/2014      L  43.03  GIB.A  33.99    BNS  58.21     TD  46.58    BCE   \n",
       "28/03/2014      L  43.42  GIB.A  33.97    BNS  57.54     TD  46.54    BCE   \n",
       "31/03/2014      L  44.05  GIB.A  34.13    BNS  58.02     TD  46.95    BCE   \n",
       "01/04/2014      L  44.35  GIB.A  34.18    BNS  58.68     TD  46.79    BCE   \n",
       "02/04/2014      L  44.65  GIB.A  34.82    BNS  58.77     TD  46.82    BCE   \n",
       "03/04/2014      L  44.88  GIB.A  35.30    BNS  58.76     TD  46.72    BCE   \n",
       "04/04/2014      L  44.70  GIB.A  34.77    BNS  59.09     TD  46.86    BCE   \n",
       "07/04/2014      L  44.15  GIB.A  34.08    BNS  58.87     TD  46.74    BCE   \n",
       "08/04/2014      L  44.52  GIB.A  34.69    BNS  59.40     TD  47.28    BCE   \n",
       "09/04/2014      L  44.54  GIB.A  35.94    BNS  59.68     TD  47.62    BCE   \n",
       "10/04/2014      L  43.92  GIB.A  35.00    BNS  58.75     TD  46.69    BCE   \n",
       "11/04/2014      L  43.44  GIB.A  35.19    BNS  58.51     TD  46.45    BCE   \n",
       "\n",
       "            Close  \n",
       "Date               \n",
       "03/03/2014  43.43  \n",
       "04/03/2014  43.42  \n",
       "05/03/2014  43.77  \n",
       "06/03/2014  43.97  \n",
       "07/03/2014  43.63  \n",
       "10/03/2014  43.64  \n",
       "11/03/2014  43.51  \n",
       "12/03/2014  42.71  \n",
       "13/03/2014  42.58  \n",
       "14/03/2014  42.22  \n",
       "17/03/2014  42.59  \n",
       "18/03/2014  42.90  \n",
       "19/03/2014  42.64  \n",
       "20/03/2014  42.70  \n",
       "21/03/2014  42.55  \n",
       "24/03/2014  42.35  \n",
       "25/03/2014  42.26  \n",
       "26/03/2014  42.34  \n",
       "27/03/2014  42.66  \n",
       "28/03/2014  42.93  \n",
       "31/03/2014  43.14  \n",
       "01/04/2014  43.39  \n",
       "02/04/2014  43.57  \n",
       "03/04/2014  43.18  \n",
       "04/04/2014  43.55  \n",
       "07/04/2014  43.76  \n",
       "08/04/2014  44.12  \n",
       "09/04/2014  44.33  \n",
       "10/04/2014  43.99  \n",
       "11/04/2014  43.87  "
      ]
     },
     "execution_count": 163,
     "metadata": {},
     "output_type": "execute_result"
    }
   ],
   "source": [
    "# Combine all stocks in a single DataFrame\n",
    "my_portfolio_df = pd.concat([loblaw_df, cgi_df, bns_df, td_df, bce_df], axis=\"columns\", join=\"inner\" )\n",
    "my_portfolio_df.head(30)"
   ]
  },
  {
   "cell_type": "code",
   "execution_count": 164,
   "metadata": {},
   "outputs": [],
   "source": [
    "#my_portfolio_df = my_portfolio_df.sort_index()\n",
    "#my_portfolio_df.head(30)\n",
    "                    "
   ]
  },
  {
   "cell_type": "code",
   "execution_count": 165,
   "metadata": {},
   "outputs": [],
   "source": [
    "# droping symbol columns\n",
    "my_portfolio_df = my_portfolio_df.drop(columns=[\"Symbol\"])\n"
   ]
  },
  {
   "cell_type": "code",
   "execution_count": 166,
   "metadata": {},
   "outputs": [
    {
     "data": {
      "text/html": [
       "<div>\n",
       "<style scoped>\n",
       "    .dataframe tbody tr th:only-of-type {\n",
       "        vertical-align: middle;\n",
       "    }\n",
       "\n",
       "    .dataframe tbody tr th {\n",
       "        vertical-align: top;\n",
       "    }\n",
       "\n",
       "    .dataframe thead th {\n",
       "        text-align: right;\n",
       "    }\n",
       "</style>\n",
       "<table border=\"1\" class=\"dataframe\">\n",
       "  <thead>\n",
       "    <tr style=\"text-align: right;\">\n",
       "      <th></th>\n",
       "      <th>Loblaw</th>\n",
       "      <th>GIB.A</th>\n",
       "      <th>BNS</th>\n",
       "      <th>TD</th>\n",
       "      <th>BCE</th>\n",
       "    </tr>\n",
       "    <tr>\n",
       "      <th>Date</th>\n",
       "      <th></th>\n",
       "      <th></th>\n",
       "      <th></th>\n",
       "      <th></th>\n",
       "      <th></th>\n",
       "    </tr>\n",
       "  </thead>\n",
       "  <tbody>\n",
       "    <tr>\n",
       "      <th>03/03/2014</th>\n",
       "      <td>43.15</td>\n",
       "      <td>35.06</td>\n",
       "      <td>56.87</td>\n",
       "      <td>45.06</td>\n",
       "      <td>43.43</td>\n",
       "    </tr>\n",
       "    <tr>\n",
       "      <th>04/03/2014</th>\n",
       "      <td>43.89</td>\n",
       "      <td>35.64</td>\n",
       "      <td>56.88</td>\n",
       "      <td>45.13</td>\n",
       "      <td>43.42</td>\n",
       "    </tr>\n",
       "    <tr>\n",
       "      <th>05/03/2014</th>\n",
       "      <td>44.04</td>\n",
       "      <td>36.16</td>\n",
       "      <td>57.68</td>\n",
       "      <td>45.59</td>\n",
       "      <td>43.77</td>\n",
       "    </tr>\n",
       "    <tr>\n",
       "      <th>06/03/2014</th>\n",
       "      <td>44.40</td>\n",
       "      <td>36.34</td>\n",
       "      <td>58.02</td>\n",
       "      <td>45.88</td>\n",
       "      <td>43.97</td>\n",
       "    </tr>\n",
       "    <tr>\n",
       "      <th>07/03/2014</th>\n",
       "      <td>45.05</td>\n",
       "      <td>35.93</td>\n",
       "      <td>57.36</td>\n",
       "      <td>45.48</td>\n",
       "      <td>43.63</td>\n",
       "    </tr>\n",
       "  </tbody>\n",
       "</table>\n",
       "</div>"
      ],
      "text/plain": [
       "            Loblaw  GIB.A    BNS     TD    BCE\n",
       "Date                                          \n",
       "03/03/2014   43.15  35.06  56.87  45.06  43.43\n",
       "04/03/2014   43.89  35.64  56.88  45.13  43.42\n",
       "05/03/2014   44.04  36.16  57.68  45.59  43.77\n",
       "06/03/2014   44.40  36.34  58.02  45.88  43.97\n",
       "07/03/2014   45.05  35.93  57.36  45.48  43.63"
      ]
     },
     "execution_count": 166,
     "metadata": {},
     "output_type": "execute_result"
    }
   ],
   "source": [
    "# Reorganize portfolio data by having a column per symbol\n",
    "my_portfolio_df.columns = [\"Loblaw\" , \"GIB.A\" , \"BNS\" , \"TD\" , \"BCE\"] \n",
    "my_portfolio_df.head()"
   ]
  },
  {
   "cell_type": "code",
   "execution_count": 167,
   "metadata": {},
   "outputs": [],
   "source": [
    "# Sort my portfolio\n",
    "#my_portfolio_df = my_portfolio_df.sort_index()\n",
    "#my_portfolio_df.head(20)\n",
    "                \n",
    "\n"
   ]
  },
  {
   "cell_type": "code",
   "execution_count": 168,
   "metadata": {},
   "outputs": [
    {
     "data": {
      "text/html": [
       "<div>\n",
       "<style scoped>\n",
       "    .dataframe tbody tr th:only-of-type {\n",
       "        vertical-align: middle;\n",
       "    }\n",
       "\n",
       "    .dataframe tbody tr th {\n",
       "        vertical-align: top;\n",
       "    }\n",
       "\n",
       "    .dataframe thead th {\n",
       "        text-align: right;\n",
       "    }\n",
       "</style>\n",
       "<table border=\"1\" class=\"dataframe\">\n",
       "  <thead>\n",
       "    <tr style=\"text-align: right;\">\n",
       "      <th></th>\n",
       "      <th>Loblaw</th>\n",
       "      <th>GIB.A</th>\n",
       "      <th>BNS</th>\n",
       "      <th>TD</th>\n",
       "      <th>BCE</th>\n",
       "    </tr>\n",
       "    <tr>\n",
       "      <th>Date</th>\n",
       "      <th></th>\n",
       "      <th></th>\n",
       "      <th></th>\n",
       "      <th></th>\n",
       "      <th></th>\n",
       "    </tr>\n",
       "  </thead>\n",
       "  <tbody>\n",
       "    <tr>\n",
       "      <th>03/03/2014</th>\n",
       "      <td>NaN</td>\n",
       "      <td>NaN</td>\n",
       "      <td>NaN</td>\n",
       "      <td>NaN</td>\n",
       "      <td>NaN</td>\n",
       "    </tr>\n",
       "    <tr>\n",
       "      <th>04/03/2014</th>\n",
       "      <td>0.017149</td>\n",
       "      <td>0.016543</td>\n",
       "      <td>0.000176</td>\n",
       "      <td>0.001553</td>\n",
       "      <td>-0.000230</td>\n",
       "    </tr>\n",
       "    <tr>\n",
       "      <th>05/03/2014</th>\n",
       "      <td>0.003418</td>\n",
       "      <td>0.014590</td>\n",
       "      <td>0.014065</td>\n",
       "      <td>0.010193</td>\n",
       "      <td>0.008061</td>\n",
       "    </tr>\n",
       "    <tr>\n",
       "      <th>06/03/2014</th>\n",
       "      <td>0.008174</td>\n",
       "      <td>0.004978</td>\n",
       "      <td>0.005895</td>\n",
       "      <td>0.006361</td>\n",
       "      <td>0.004569</td>\n",
       "    </tr>\n",
       "    <tr>\n",
       "      <th>07/03/2014</th>\n",
       "      <td>0.014640</td>\n",
       "      <td>-0.011282</td>\n",
       "      <td>-0.011375</td>\n",
       "      <td>-0.008718</td>\n",
       "      <td>-0.007733</td>\n",
       "    </tr>\n",
       "    <tr>\n",
       "      <th>10/03/2014</th>\n",
       "      <td>-0.009101</td>\n",
       "      <td>0.015029</td>\n",
       "      <td>0.005753</td>\n",
       "      <td>0.009675</td>\n",
       "      <td>0.000229</td>\n",
       "    </tr>\n",
       "    <tr>\n",
       "      <th>11/03/2014</th>\n",
       "      <td>-0.005600</td>\n",
       "      <td>-0.039485</td>\n",
       "      <td>0.011440</td>\n",
       "      <td>0.010453</td>\n",
       "      <td>-0.002979</td>\n",
       "    </tr>\n",
       "    <tr>\n",
       "      <th>12/03/2014</th>\n",
       "      <td>0.006984</td>\n",
       "      <td>0.016272</td>\n",
       "      <td>0.004113</td>\n",
       "      <td>0.003879</td>\n",
       "      <td>-0.018387</td>\n",
       "    </tr>\n",
       "    <tr>\n",
       "      <th>13/03/2014</th>\n",
       "      <td>-0.007159</td>\n",
       "      <td>-0.021067</td>\n",
       "      <td>-0.002731</td>\n",
       "      <td>-0.000859</td>\n",
       "      <td>-0.003044</td>\n",
       "    </tr>\n",
       "    <tr>\n",
       "      <th>14/03/2014</th>\n",
       "      <td>-0.009238</td>\n",
       "      <td>-0.019799</td>\n",
       "      <td>-0.007702</td>\n",
       "      <td>-0.008165</td>\n",
       "      <td>-0.008455</td>\n",
       "    </tr>\n",
       "    <tr>\n",
       "      <th>17/03/2014</th>\n",
       "      <td>0.000000</td>\n",
       "      <td>0.015808</td>\n",
       "      <td>0.005002</td>\n",
       "      <td>0.007799</td>\n",
       "      <td>0.008764</td>\n",
       "    </tr>\n",
       "    <tr>\n",
       "      <th>18/03/2014</th>\n",
       "      <td>-0.000910</td>\n",
       "      <td>0.002017</td>\n",
       "      <td>-0.000686</td>\n",
       "      <td>-0.001935</td>\n",
       "      <td>0.007279</td>\n",
       "    </tr>\n",
       "    <tr>\n",
       "      <th>19/03/2014</th>\n",
       "      <td>-0.005691</td>\n",
       "      <td>0.011217</td>\n",
       "      <td>-0.012880</td>\n",
       "      <td>-0.012277</td>\n",
       "      <td>-0.006061</td>\n",
       "    </tr>\n",
       "    <tr>\n",
       "      <th>20/03/2014</th>\n",
       "      <td>0.005266</td>\n",
       "      <td>0.006542</td>\n",
       "      <td>0.002610</td>\n",
       "      <td>0.005015</td>\n",
       "      <td>0.001407</td>\n",
       "    </tr>\n",
       "    <tr>\n",
       "      <th>21/03/2014</th>\n",
       "      <td>0.007288</td>\n",
       "      <td>-0.029104</td>\n",
       "      <td>0.005553</td>\n",
       "      <td>-0.001302</td>\n",
       "      <td>-0.003513</td>\n",
       "    </tr>\n",
       "    <tr>\n",
       "      <th>24/03/2014</th>\n",
       "      <td>-0.014470</td>\n",
       "      <td>0.001455</td>\n",
       "      <td>0.000863</td>\n",
       "      <td>0.003693</td>\n",
       "      <td>-0.004700</td>\n",
       "    </tr>\n",
       "    <tr>\n",
       "      <th>25/03/2014</th>\n",
       "      <td>0.000000</td>\n",
       "      <td>0.012206</td>\n",
       "      <td>0.002241</td>\n",
       "      <td>0.003680</td>\n",
       "      <td>-0.002125</td>\n",
       "    </tr>\n",
       "    <tr>\n",
       "      <th>26/03/2014</th>\n",
       "      <td>-0.009635</td>\n",
       "      <td>-0.016365</td>\n",
       "      <td>0.003097</td>\n",
       "      <td>0.002804</td>\n",
       "      <td>0.001893</td>\n",
       "    </tr>\n",
       "    <tr>\n",
       "      <th>27/03/2014</th>\n",
       "      <td>-0.003243</td>\n",
       "      <td>-0.007881</td>\n",
       "      <td>-0.001715</td>\n",
       "      <td>0.001720</td>\n",
       "      <td>0.007558</td>\n",
       "    </tr>\n",
       "    <tr>\n",
       "      <th>28/03/2014</th>\n",
       "      <td>0.009063</td>\n",
       "      <td>-0.000588</td>\n",
       "      <td>-0.011510</td>\n",
       "      <td>-0.000859</td>\n",
       "      <td>0.006329</td>\n",
       "    </tr>\n",
       "    <tr>\n",
       "      <th>31/03/2014</th>\n",
       "      <td>0.014509</td>\n",
       "      <td>0.004710</td>\n",
       "      <td>0.008342</td>\n",
       "      <td>0.008810</td>\n",
       "      <td>0.004892</td>\n",
       "    </tr>\n",
       "    <tr>\n",
       "      <th>01/04/2014</th>\n",
       "      <td>0.006810</td>\n",
       "      <td>0.001465</td>\n",
       "      <td>0.011375</td>\n",
       "      <td>-0.003408</td>\n",
       "      <td>0.005795</td>\n",
       "    </tr>\n",
       "    <tr>\n",
       "      <th>02/04/2014</th>\n",
       "      <td>0.006764</td>\n",
       "      <td>0.018724</td>\n",
       "      <td>0.001534</td>\n",
       "      <td>0.000641</td>\n",
       "      <td>0.004148</td>\n",
       "    </tr>\n",
       "    <tr>\n",
       "      <th>03/04/2014</th>\n",
       "      <td>0.005151</td>\n",
       "      <td>0.013785</td>\n",
       "      <td>-0.000170</td>\n",
       "      <td>-0.002136</td>\n",
       "      <td>-0.008951</td>\n",
       "    </tr>\n",
       "    <tr>\n",
       "      <th>04/04/2014</th>\n",
       "      <td>-0.004011</td>\n",
       "      <td>-0.015014</td>\n",
       "      <td>0.005616</td>\n",
       "      <td>0.002997</td>\n",
       "      <td>0.008569</td>\n",
       "    </tr>\n",
       "    <tr>\n",
       "      <th>07/04/2014</th>\n",
       "      <td>-0.012304</td>\n",
       "      <td>-0.019845</td>\n",
       "      <td>-0.003723</td>\n",
       "      <td>-0.002561</td>\n",
       "      <td>0.004822</td>\n",
       "    </tr>\n",
       "    <tr>\n",
       "      <th>08/04/2014</th>\n",
       "      <td>0.008381</td>\n",
       "      <td>0.017899</td>\n",
       "      <td>0.009003</td>\n",
       "      <td>0.011553</td>\n",
       "      <td>0.008227</td>\n",
       "    </tr>\n",
       "    <tr>\n",
       "      <th>09/04/2014</th>\n",
       "      <td>0.000449</td>\n",
       "      <td>0.036033</td>\n",
       "      <td>0.004714</td>\n",
       "      <td>0.007191</td>\n",
       "      <td>0.004760</td>\n",
       "    </tr>\n",
       "    <tr>\n",
       "      <th>10/04/2014</th>\n",
       "      <td>-0.013920</td>\n",
       "      <td>-0.026155</td>\n",
       "      <td>-0.015583</td>\n",
       "      <td>-0.019530</td>\n",
       "      <td>-0.007670</td>\n",
       "    </tr>\n",
       "    <tr>\n",
       "      <th>11/04/2014</th>\n",
       "      <td>-0.010929</td>\n",
       "      <td>0.005429</td>\n",
       "      <td>-0.004085</td>\n",
       "      <td>-0.005140</td>\n",
       "      <td>-0.002728</td>\n",
       "    </tr>\n",
       "  </tbody>\n",
       "</table>\n",
       "</div>"
      ],
      "text/plain": [
       "              Loblaw     GIB.A       BNS        TD       BCE\n",
       "Date                                                        \n",
       "03/03/2014       NaN       NaN       NaN       NaN       NaN\n",
       "04/03/2014  0.017149  0.016543  0.000176  0.001553 -0.000230\n",
       "05/03/2014  0.003418  0.014590  0.014065  0.010193  0.008061\n",
       "06/03/2014  0.008174  0.004978  0.005895  0.006361  0.004569\n",
       "07/03/2014  0.014640 -0.011282 -0.011375 -0.008718 -0.007733\n",
       "10/03/2014 -0.009101  0.015029  0.005753  0.009675  0.000229\n",
       "11/03/2014 -0.005600 -0.039485  0.011440  0.010453 -0.002979\n",
       "12/03/2014  0.006984  0.016272  0.004113  0.003879 -0.018387\n",
       "13/03/2014 -0.007159 -0.021067 -0.002731 -0.000859 -0.003044\n",
       "14/03/2014 -0.009238 -0.019799 -0.007702 -0.008165 -0.008455\n",
       "17/03/2014  0.000000  0.015808  0.005002  0.007799  0.008764\n",
       "18/03/2014 -0.000910  0.002017 -0.000686 -0.001935  0.007279\n",
       "19/03/2014 -0.005691  0.011217 -0.012880 -0.012277 -0.006061\n",
       "20/03/2014  0.005266  0.006542  0.002610  0.005015  0.001407\n",
       "21/03/2014  0.007288 -0.029104  0.005553 -0.001302 -0.003513\n",
       "24/03/2014 -0.014470  0.001455  0.000863  0.003693 -0.004700\n",
       "25/03/2014  0.000000  0.012206  0.002241  0.003680 -0.002125\n",
       "26/03/2014 -0.009635 -0.016365  0.003097  0.002804  0.001893\n",
       "27/03/2014 -0.003243 -0.007881 -0.001715  0.001720  0.007558\n",
       "28/03/2014  0.009063 -0.000588 -0.011510 -0.000859  0.006329\n",
       "31/03/2014  0.014509  0.004710  0.008342  0.008810  0.004892\n",
       "01/04/2014  0.006810  0.001465  0.011375 -0.003408  0.005795\n",
       "02/04/2014  0.006764  0.018724  0.001534  0.000641  0.004148\n",
       "03/04/2014  0.005151  0.013785 -0.000170 -0.002136 -0.008951\n",
       "04/04/2014 -0.004011 -0.015014  0.005616  0.002997  0.008569\n",
       "07/04/2014 -0.012304 -0.019845 -0.003723 -0.002561  0.004822\n",
       "08/04/2014  0.008381  0.017899  0.009003  0.011553  0.008227\n",
       "09/04/2014  0.000449  0.036033  0.004714  0.007191  0.004760\n",
       "10/04/2014 -0.013920 -0.026155 -0.015583 -0.019530 -0.007670\n",
       "11/04/2014 -0.010929  0.005429 -0.004085 -0.005140 -0.002728"
      ]
     },
     "execution_count": 168,
     "metadata": {},
     "output_type": "execute_result"
    }
   ],
   "source": [
    "# Calculate daily returns\n",
    "daily_returns_my_portfolio_df = my_portfolio_df.pct_change()\n",
    "daily_returns_my_portfolio_df.head(30)\n",
    "\n"
   ]
  },
  {
   "cell_type": "code",
   "execution_count": 169,
   "metadata": {},
   "outputs": [
    {
     "data": {
      "text/plain": [
       "Loblaw    0.010500\n",
       "GIB.A     0.012093\n",
       "BNS       0.010766\n",
       "TD        0.010061\n",
       "BCE       0.008723\n",
       "dtype: float64"
      ]
     },
     "execution_count": 169,
     "metadata": {},
     "output_type": "execute_result"
    }
   ],
   "source": [
    "# Drop NAs\n",
    "daily_returns_my_portfolio_df = daily_returns_my_portfolio_df.dropna().copy()\n",
    "\n",
    "# Display sample data\n",
    "daily_returns_my_portfolio_df.head()\n",
    "\n",
    "std_dev_my_portfolio = daily_returns_my_portfolio_df.std()\n",
    "std_dev_my_portfolio"
   ]
  },
  {
   "cell_type": "markdown",
   "metadata": {},
   "source": [
    "## Calculate the weighted returns for the portfolio assuming an equal number of shares for each stock"
   ]
  },
  {
   "cell_type": "code",
   "execution_count": 170,
   "metadata": {},
   "outputs": [
    {
     "data": {
      "text/plain": [
       "Date\n",
       "04/03/2014    0.007038\n",
       "05/03/2014    0.010065\n",
       "06/03/2014    0.005995\n",
       "07/03/2014   -0.004894\n",
       "10/03/2014    0.004317\n",
       "dtype: float64"
      ]
     },
     "execution_count": 170,
     "metadata": {},
     "output_type": "execute_result"
    }
   ],
   "source": [
    "# Set weights\n",
    "weights = [1/5, 1/5, 1/5, 1/5, 1/5]\n",
    "\n",
    "# Calculate portfolio return\n",
    "my_portfolio_returns = daily_returns_my_portfolio_df.dot(weights)\n",
    "\n",
    "# Display sample data\n",
    "my_portfolio_returns.head()"
   ]
  },
  {
   "cell_type": "markdown",
   "metadata": {},
   "source": [
    "## Join your portfolio returns to the DataFrame that contains all of the portfolio returns"
   ]
  },
  {
   "cell_type": "code",
   "execution_count": 171,
   "metadata": {},
   "outputs": [
    {
     "data": {
      "text/html": [
       "<div>\n",
       "<style scoped>\n",
       "    .dataframe tbody tr th:only-of-type {\n",
       "        vertical-align: middle;\n",
       "    }\n",
       "\n",
       "    .dataframe tbody tr th {\n",
       "        vertical-align: top;\n",
       "    }\n",
       "\n",
       "    .dataframe thead th {\n",
       "        text-align: right;\n",
       "    }\n",
       "</style>\n",
       "<table border=\"1\" class=\"dataframe\">\n",
       "  <thead>\n",
       "    <tr style=\"text-align: right;\">\n",
       "      <th></th>\n",
       "      <th>Whale 1</th>\n",
       "      <th>Whale 2</th>\n",
       "      <th>Whale 3</th>\n",
       "      <th>Whale 4</th>\n",
       "      <th>Algo 1</th>\n",
       "      <th>Algo 2</th>\n",
       "      <th>S&amp;P TSX</th>\n",
       "      <th>My_Portfolio</th>\n",
       "    </tr>\n",
       "    <tr>\n",
       "      <th>Date</th>\n",
       "      <th></th>\n",
       "      <th></th>\n",
       "      <th></th>\n",
       "      <th></th>\n",
       "      <th></th>\n",
       "      <th></th>\n",
       "      <th></th>\n",
       "      <th></th>\n",
       "    </tr>\n",
       "  </thead>\n",
       "  <tbody>\n",
       "  </tbody>\n",
       "</table>\n",
       "</div>"
      ],
      "text/plain": [
       "Empty DataFrame\n",
       "Columns: [Whale 1, Whale 2, Whale 3, Whale 4, Algo 1, Algo 2, S&P TSX, My_Portfolio]\n",
       "Index: []"
      ]
     },
     "execution_count": 171,
     "metadata": {},
     "output_type": "execute_result"
    }
   ],
   "source": [
    "# Join your returns DataFrame to the original returns DataFrame\n",
    "joined_custom_portfolio = pd.concat([joined_portfolio, my_portfolio_returns], axis=\"columns\", join =\"inner\")\n",
    "joined_custom_portfolio.columns = [\"Whale 1\", \"Whale 2\" , \"Whale 3\" , \"Whale 4\" , \"Algo 1\" , \"Algo 2\" , \"S&P TSX\" , \"My_Portfolio\"]\n",
    "joined_custom_portfolio\n"
   ]
  },
  {
   "cell_type": "code",
   "execution_count": 172,
   "metadata": {},
   "outputs": [
    {
     "data": {
      "text/plain": [
       "(0, 8)"
      ]
     },
     "execution_count": 172,
     "metadata": {},
     "output_type": "execute_result"
    }
   ],
   "source": [
    "# Only compare dates where return data exists for all the stocks (drop NaNs)\n",
    "joined_custom_portfolio = joined_custom_portfolio.dropna().copy()\n",
    "joined_custom_portfolio.shape"
   ]
  },
  {
   "cell_type": "markdown",
   "metadata": {},
   "source": [
    "## Re-run the risk analysis with your portfolio to see how it compares to the others"
   ]
  },
  {
   "cell_type": "markdown",
   "metadata": {},
   "source": [
    "### Calculate the Annualized Standard Deviation"
   ]
  },
  {
   "cell_type": "code",
   "execution_count": 173,
   "metadata": {},
   "outputs": [
    {
     "data": {
      "text/plain": [
       "Whale 1        NaN\n",
       "Whale 2        NaN\n",
       "Whale 3        NaN\n",
       "Whale 4        NaN\n",
       "Algo 1         NaN\n",
       "Algo 2         NaN\n",
       "S&P TSX        NaN\n",
       "My_Portfolio   NaN\n",
       "dtype: float64"
      ]
     },
     "execution_count": 173,
     "metadata": {},
     "output_type": "execute_result"
    }
   ],
   "source": [
    "# Calculate the annualized `std`\n",
    "annu_std_dev = joined_custom_portfolio.std() * np.sqrt(252)\n",
    "annu_std_dev\n",
    "\n"
   ]
  },
  {
   "cell_type": "code",
   "execution_count": 174,
   "metadata": {},
   "outputs": [],
   "source": [
    "#annu_std_dev = std_dev_joined_custom_portfolio * np.sqrt(252)\n",
    "#annu_std_dev"
   ]
  },
  {
   "cell_type": "markdown",
   "metadata": {},
   "source": [
    "### Calculate and plot rolling `std` with 21-day window"
   ]
  },
  {
   "cell_type": "code",
   "execution_count": 175,
   "metadata": {},
   "outputs": [
    {
     "data": {
      "text/plain": [
       "<AxesSubplot:xlabel='Date'>"
      ]
     },
     "execution_count": 175,
     "metadata": {},
     "output_type": "execute_result"
    },
    {
     "data": {
      "image/png": "[encoded data removed]",
      "text/plain": [
       "<Figure size 720x504 with 1 Axes>"
      ]
     },
     "metadata": {
      "needs_background": "light"
     },
     "output_type": "display_data"
    }
   ],
   "source": [
    "\n",
    "\n",
    "# Calculate rolling standard deviation\n",
    "joined_custom_portfolio = joined_custom_portfolio.rolling(window=21).std()\n",
    "\n",
    "# Plot rolling standard deviation\n",
    "joined_custom_portfolio.plot(figsize=(10,7)) \n",
    "\n",
    "#ax.legend([\"Loblaw\" , \"SHOP\" , \"OTEX\" , \"Combined\"])"
   ]
  },
  {
   "cell_type": "markdown",
   "metadata": {},
   "source": [
    "### Calculate and plot the correlation"
   ]
  },
  {
   "cell_type": "code",
   "execution_count": 176,
   "metadata": {},
   "outputs": [
    {
     "data": {
      "image/png": "[encoded data removed]",
      "text/plain": [
       "<Figure size 1080x720 with 2 Axes>"
      ]
     },
     "metadata": {
      "needs_background": "light"
     },
     "output_type": "display_data"
    }
   ],
   "source": [
    "# Calculate and plot the correlation\n",
    "import matplotlib.pyplot as plt \n",
    "\n",
    "plt.figure(figsize=(15,10))\n",
    "correlation = joined_custom_portfolio.corr()\n",
    "ax = sns.heatmap(correlation, vmin=-1, vmax=1, annot=True) \n",
    "\n",
    "ax.set_title(\"Correlation of the Portfolio\")\n",
    "plt.show()\n",
    "\n"
   ]
  },
  {
   "cell_type": "markdown",
   "metadata": {},
   "source": [
    "### Calculate and Plot the 60-day Rolling Beta for Your Portfolio compared to the S&P 60 TSX"
   ]
  },
  {
   "cell_type": "code",
   "execution_count": 177,
   "metadata": {},
   "outputs": [
    {
     "data": {
      "text/plain": [
       "<matplotlib.legend.Legend at 0x2424ff9fa30>"
      ]
     },
     "execution_count": 177,
     "metadata": {},
     "output_type": "execute_result"
    },
    {
     "data": {
      "image/png": "[encoded data removed]",
      "text/plain": [
       "<Figure size 1080x504 with 1 Axes>"
      ]
     },
     "metadata": {
      "needs_background": "light"
     },
     "output_type": "display_data"
    }
   ],
   "source": [
    "# Calculate and plot Beta\n",
    "\n",
    "covariance_rolling_myportfolio = joined_custom_portfolio[\"My_Portfolio\"].rolling(window=60).cov(joined_custom_portfolio[\"S&P TSX\"])\n",
    "covariance_rolling_myportfolio\n",
    "\n",
    "# Calculating 60-day rolling variance of S&P 500\n",
    "variance_rolling_sptsx = joined_custom_portfolio[\"S&P TSX\"].rolling(window=60).var()\n",
    "variance_rolling_sptsx\n",
    "\n",
    "# calculate beta on my portfolio\n",
    "\n",
    "beta_rolling_myportfolio = covariance_rolling_myportfolio / variance_rolling_sptsx\n",
    "beta_rolling_myportfolio\n",
    "\n",
    "# Ploting beta values\n",
    "\n",
    "ax = beta_rolling_myportfolio.plot(figsize=(15, 7), title=\"Rolling 60-Day Beta of Custom Stocks\")\n",
    "beta_rolling_myportfolio.plot()\n",
    "\n",
    "# Set the legend of the figure\n",
    "ax.legend([\"My Portfolio\"])\n"
   ]
  },
  {
   "cell_type": "code",
   "execution_count": null,
   "metadata": {},
   "outputs": [],
   "source": []
  },
  {
   "cell_type": "code",
   "execution_count": 178,
   "metadata": {},
   "outputs": [],
   "source": [
    "### Using the daily returns, calculate and visualize the Sharpe ratios using a bar plot\n",
    "\n"
   ]
  },
  {
   "cell_type": "code",
   "execution_count": 179,
   "metadata": {},
   "outputs": [
    {
     "data": {
      "text/plain": [
       "Whale 1        NaN\n",
       "Whale 2        NaN\n",
       "Whale 3        NaN\n",
       "Whale 4        NaN\n",
       "Algo 1         NaN\n",
       "Algo 2         NaN\n",
       "S&P TSX        NaN\n",
       "My_Portfolio   NaN\n",
       "dtype: float64"
      ]
     },
     "execution_count": 179,
     "metadata": {},
     "output_type": "execute_result"
    }
   ],
   "source": [
    "# Calculate Annualzied Sharpe Ratios\n",
    "\n",
    "sharpe_ratios_Custom = (joined_custom_portfolio.mean() * 252) / (joined_custom_portfolio.std() * np.sqrt(252))\n",
    "sharpe_ratios_Custom\n",
    "\n"
   ]
  },
  {
   "cell_type": "code",
   "execution_count": 180,
   "metadata": {},
   "outputs": [
    {
     "data": {
      "text/plain": [
       "<AxesSubplot:>"
      ]
     },
     "execution_count": 180,
     "metadata": {},
     "output_type": "execute_result"
    },
    {
     "data": {
      "image/png": "[encoded data removed]",
      "text/plain": [
       "<Figure size 432x288 with 1 Axes>"
      ]
     },
     "metadata": {
      "needs_background": "light"
     },
     "output_type": "display_data"
    }
   ],
   "source": [
    "# Visualize the sharpe ratios as a bar plot\n",
    "sharpe_ratios_Custom.plot(kind=\"bar\") "
   ]
  },
  {
   "cell_type": "markdown",
   "metadata": {},
   "source": [
    "### How does your portfolio do?\n",
    "\n",
    "Write your answer here!"
   ]
  },
  {
   "cell_type": "code",
   "execution_count": null,
   "metadata": {},
   "outputs": [],
   "source": []
  }
 ],
 "metadata": {
  "file_extension": ".py",
  "kernelspec": {
   "display_name": "Python 3",
   "language": "python",
   "name": "python3"
  },
  "language_info": {
   "codemirror_mode": {
    "name": "ipython",
    "version": 3
   },
   "file_extension": ".py",
   "mimetype": "text/x-python",
   "name": "python",
   "nbconvert_exporter": "python",
   "pygments_lexer": "ipython3",
   "version": "3.8.5"
  },
  "mimetype": "text/x-python",
  "name": "python",
  "npconvert_exporter": "python",
  "pygments_lexer": "ipython3",
  "version": 3
 },
 "nbformat": 4,
 "nbformat_minor": 4
}
